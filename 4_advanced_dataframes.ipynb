{
 "cells": [
  {
   "cell_type": "markdown",
   "id": "2914a8b7",
   "metadata": {},
   "source": [
    "### Exercises I\n",
    "\n",
    "1. Run `python -m pip install pymysql` from your terminal to install pymysql.\n",
    "\n",
    "2. `cd` into your exercises folder for this module and run `echo env.py >> .gitignore`\n",
    "\n",
    "3. Create a function named `get_db_url`. It should accept a username, hostname, password, and database name and return a url connection string formatted like in the example at the start of this lesson.\n",
    "\n",
    "4. Use your function to obtain a connection to the `employees` database.\n",
    "\n",
    "5. Once you have successfully run a query:\n",
    "\n",
    "    a. Intentionally make a typo in the database url. What kind of error message do you see?\n",
    "\n",
    "    b. Intentionally make an error in your SQL query. What does the error message look like?\n",
    "\n",
    "6. Read the `employees` and `titles` tables into two separate DataFrames.\n",
    "\n",
    "7. How many rows and columns do you have in each DataFrame? Is that what you expected?\n",
    "\n",
    "8. Display the summary statistics for each DataFrame.\n",
    "\n",
    "9. How many unique titles are in the `titles` DataFrame?\n",
    "\n",
    "10. What is the oldest date in the `to_date` column?\n",
    "\n",
    "11. What is the most recent date in the `to_date` column?\n"
   ]
  },
  {
   "cell_type": "code",
   "execution_count": null,
   "id": "7f498902",
   "metadata": {},
   "outputs": [],
   "source": []
  },
  {
   "cell_type": "markdown",
   "id": "67aee758",
   "metadata": {},
   "source": [
    "### Exercises II\n",
    "\n",
    "1. Copy the `users` and `roles` DataFrames from the examples above.\n",
    "\n",
    "2. What is the result of using a `right` join on the DataFrames?\n",
    "\n",
    "3. What is the result of using an `outer` join on the DataFrames?\n",
    "\n",
    "4. What happens if you drop the foreign keys from the DataFrames and try to merge them?\n",
    "\n",
    "5. Load the `mpg` dataset from PyDataset.\n",
    "\n",
    "6. Output and read the documentation for the `mpg` dataset.\n",
    "\n",
    "7. How many rows and columns are in the dataset?\n",
    "\n",
    "8. Check out your column names and perform any cleanup you may want on them.\n",
    "\n",
    "9. Display the summary statistics for the dataset.\n",
    "\n",
    "10. How many different manufacturers are there?\n",
    "\n",
    "11. How many different models are there?\n",
    "\n",
    "12. Create a column named `mileage_difference` like you did in the DataFrames exercises; this column should contain the difference between highway and city mileage for each car.\n",
    "\n",
    "13. Create a column named `average_mileage` like you did in the DataFrames exercises; this is the mean of the city and highway mileage.\n",
    "\n",
    "14. Create a new column on the mpg dataset named `is_automatic` that holds boolean values denoting whether the car has an automatic transmission.\n",
    "\n",
    "15. Using the `mpg` dataset, find out which which manufacturer has the best miles per gallon on average?\n",
    "\n",
    "16. Do automatic or manual cars have better miles per gallon?\n"
   ]
  },
  {
   "cell_type": "code",
   "execution_count": null,
   "id": "2b3ea261",
   "metadata": {},
   "outputs": [],
   "source": []
  },
  {
   "cell_type": "markdown",
   "id": "f7c43bc6",
   "metadata": {},
   "source": [
    "### Exercises III\n",
    "\n",
    "1. Use your `get_db_url` function to help you explore the data from the `chipotle` database.\n",
    "\n",
    "2. What is the total price for each order?\n",
    "\n",
    "3. What are the most popular 3 items?\n",
    "\n",
    "4. Which item has produced the most revenue?\n",
    "\n",
    "5. Join the `employees` and `titles` DataFrames together.\n",
    "\n",
    "6. For each title, find the hire date of the employee that was hired most recently with that title.\n",
    "\n",
    "7. Write the code necessary to create a cross tabulation of the number of titles by department. (Hint: this will involve a combination of SQL code to pull the necessary data and python/pandas code to perform the manipulations.)"
   ]
  },
  {
   "cell_type": "code",
   "execution_count": null,
   "id": "85a08079",
   "metadata": {},
   "outputs": [],
   "source": []
  }
 ],
 "metadata": {
  "kernelspec": {
   "display_name": "Python 3 (ipykernel)",
   "language": "python",
   "name": "python3"
  },
  "language_info": {
   "codemirror_mode": {
    "name": "ipython",
    "version": 3
   },
   "file_extension": ".py",
   "mimetype": "text/x-python",
   "name": "python",
   "nbconvert_exporter": "python",
   "pygments_lexer": "ipython3",
   "version": "3.10.9"
  },
  "varInspector": {
   "cols": {
    "lenName": 16,
    "lenType": 16,
    "lenVar": 40
   },
   "kernels_config": {
    "python": {
     "delete_cmd_postfix": "",
     "delete_cmd_prefix": "del ",
     "library": "var_list.py",
     "varRefreshCmd": "print(var_dic_list())"
    },
    "r": {
     "delete_cmd_postfix": ") ",
     "delete_cmd_prefix": "rm(",
     "library": "var_list.r",
     "varRefreshCmd": "cat(var_dic_list()) "
    }
   },
   "types_to_exclude": [
    "module",
    "function",
    "builtin_function_or_method",
    "instance",
    "_Feature"
   ],
   "window_display": false
  }
 },
 "nbformat": 4,
 "nbformat_minor": 5
}
