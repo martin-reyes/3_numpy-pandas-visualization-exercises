{
 "cells": [
  {
   "cell_type": "markdown",
   "id": "6efe9df3",
   "metadata": {},
   "source": [
    "Use the following code for the questions below:"
   ]
  },
  {
   "cell_type": "code",
   "execution_count": 1,
   "id": "500899c3",
   "metadata": {},
   "outputs": [],
   "source": [
    "a = np.array([4, 10, 12, 23, -2, -1, 0, 0, 0, -6, 3, -7])"
   ]
  },
  {
   "cell_type": "markdown",
   "id": "037feddf",
   "metadata": {},
   "source": [
    "1. How many negative numbers are there?"
   ]
  },
  {
   "cell_type": "code",
   "execution_count": 2,
   "id": "94c1e969",
   "metadata": {},
   "outputs": [
    {
     "name": "stdout",
     "output_type": "stream",
     "text": [
      "[-2 -1 -6 -7]\n",
      "4\n"
     ]
    }
   ],
   "source": [
    "print(a[a < 0])\n",
    "print(len(a[a < 0]))"
   ]
  },
  {
   "cell_type": "markdown",
   "id": "a8709c64",
   "metadata": {},
   "source": [
    "2. How many positive numbers are there?"
   ]
  },
  {
   "cell_type": "code",
   "execution_count": 3,
   "id": "66ae7739",
   "metadata": {},
   "outputs": [
    {
     "name": "stdout",
     "output_type": "stream",
     "text": [
      "[ 4 10 12 23  3]\n",
      "5\n"
     ]
    }
   ],
   "source": [
    "print(a[a > 0])\n",
    "print(len(a[a > 0]))"
   ]
  },
  {
   "cell_type": "markdown",
   "id": "9ed49c43",
   "metadata": {},
   "source": [
    "3. How many even positive numbers are there?"
   ]
  },
  {
   "cell_type": "code",
   "execution_count": 4,
   "id": "8a90cac7",
   "metadata": {},
   "outputs": [
    {
     "name": "stdout",
     "output_type": "stream",
     "text": [
      "[ 4 10 12]\n",
      "5\n"
     ]
    }
   ],
   "source": [
    "print(a[(a > 0) & (a % 2 == 0)])\n",
    "print(len(a[a > 0]))"
   ]
  },
  {
   "cell_type": "markdown",
   "id": "936f7706",
   "metadata": {},
   "source": [
    "4. If you were to add 3 to each data point, how many positive numbers would there be?"
   ]
  },
  {
   "cell_type": "code",
   "execution_count": 5,
   "id": "0a0b3728",
   "metadata": {},
   "outputs": [
    {
     "name": "stdout",
     "output_type": "stream",
     "text": [
      "[ 7 13 15 26  1  2  3  3  3 -3  6 -4]\n",
      "[ 7 13 15 26  1  2  3  3  3  6]\n",
      "10\n"
     ]
    }
   ],
   "source": [
    "a_plus_3 = a + 3\n",
    "print(a_plus_3)\n",
    "print(a_plus_3[a_plus_3 > 0])\n",
    "print(len(a_plus_3[a_plus_3 > 0]))"
   ]
  },
  {
   "cell_type": "markdown",
   "id": "fb384edf",
   "metadata": {},
   "source": [
    "5. If you squared each number, what would the new mean and standard deviation be?"
   ]
  },
  {
   "cell_type": "code",
   "execution_count": 6,
   "id": "d027f9a8",
   "metadata": {},
   "outputs": [
    {
     "name": "stdout",
     "output_type": "stream",
     "text": [
      "[ 16 100 144 529   4   1   0   0   0  36   9  49]\n",
      "mean: 74.0\n",
      "std dev: 144.0243035046516\n"
     ]
    }
   ],
   "source": [
    "a_sqrd = a ** 2\n",
    "print(a_sqrd)\n",
    "print(f'mean: {a_sqrd.mean()}')\n",
    "print(f'std dev: {a_sqrd.std()}')"
   ]
  },
  {
   "cell_type": "markdown",
   "id": "efaafd64",
   "metadata": {},
   "source": [
    "6. A common statistical operation on a dataset is **centering**. This means to adjust the data such that the mean of the data is 0. This is done by subtracting the mean from each data point. Center the data set. See this [link](https://www.theanalysisfactor.com/centering-and-standardizing-predictors/) for more on centering."
   ]
  },
  {
   "cell_type": "code",
   "execution_count": 7,
   "id": "df1ada75",
   "metadata": {},
   "outputs": [
    {
     "name": "stdout",
     "output_type": "stream",
     "text": [
      "3.0\n",
      "[  1.   7.   9.  20.  -5.  -4.  -3.  -3.  -3.  -9.   0. -10.]\n"
     ]
    }
   ],
   "source": [
    "a_centered = a - a.mean()\n",
    "print(a.mean())\n",
    "print(a_centered)"
   ]
  },
  {
   "cell_type": "markdown",
   "id": "537e48ae",
   "metadata": {},
   "source": [
    "7. Calculate the z-score for each data point. Recall that the z-score is given by:\n",
    "\n",
    "$$ Z = \\frac{x − μ}{σ} $$\n"
   ]
  },
  {
   "cell_type": "code",
   "execution_count": 8,
   "id": "791f11e3",
   "metadata": {},
   "outputs": [
    {
     "data": {
      "text/plain": [
       "array([ 0.12403473,  0.86824314,  1.11631261,  2.48069469, -0.62017367,\n",
       "       -0.49613894, -0.3721042 , -0.3721042 , -0.3721042 , -1.11631261,\n",
       "        0.        , -1.24034735])"
      ]
     },
     "execution_count": 8,
     "metadata": {},
     "output_type": "execute_result"
    }
   ],
   "source": [
    "a_z_scores = (a - a.mean())/ (a.std())\n",
    "a_z_scores"
   ]
  },
  {
   "cell_type": "markdown",
   "id": "ba924c05",
   "metadata": {},
   "source": [
    "8. Copy the setup and exercise directions from [More Numpy Practice](https://gist.github.com/ryanorsinger/c4cf5a64ec33c014ff2e56951bc8a42d) into your numpy_exercises.py and add your solutions."
   ]
  },
  {
   "cell_type": "code",
   "execution_count": 9,
   "id": "e74cb1db",
   "metadata": {},
   "outputs": [],
   "source": [
    "## Setup 1\n",
    "a = [1, 2, 3, 4, 5, 6, 7, 8, 9, 10]"
   ]
  },
  {
   "cell_type": "markdown",
   "id": "33009eba",
   "metadata": {},
   "source": [
    "Use python's built in functionality/operators to determine the following:"
   ]
  },
  {
   "cell_type": "code",
   "execution_count": 80,
   "id": "8aaa727c",
   "metadata": {},
   "outputs": [
    {
     "data": {
      "text/plain": [
       "55"
      ]
     },
     "execution_count": 80,
     "metadata": {},
     "output_type": "execute_result"
    }
   ],
   "source": [
    "# Exercise 1 - Make a variable called sum_of_a to hold the sum of\n",
    "# all the numbers in above list\n",
    "sum(a)"
   ]
  },
  {
   "cell_type": "code",
   "execution_count": 81,
   "id": "dfb7708c",
   "metadata": {},
   "outputs": [
    {
     "data": {
      "text/plain": [
       "1"
      ]
     },
     "execution_count": 81,
     "metadata": {},
     "output_type": "execute_result"
    }
   ],
   "source": [
    "# Exercise 2 - Make a variable named min_of_a to hold the minimum\n",
    "# of all the numbers in the above list\n",
    "min(a)"
   ]
  },
  {
   "cell_type": "code",
   "execution_count": 82,
   "id": "f948ba2b",
   "metadata": {},
   "outputs": [
    {
     "data": {
      "text/plain": [
       "10"
      ]
     },
     "execution_count": 82,
     "metadata": {},
     "output_type": "execute_result"
    }
   ],
   "source": [
    "# Exercise 3 - Make a variable named max_of_a to hold the max number\n",
    "# of all the numbers in the above list\n",
    "max(a)"
   ]
  },
  {
   "cell_type": "code",
   "execution_count": 83,
   "id": "c3a6f8d2",
   "metadata": {},
   "outputs": [
    {
     "data": {
      "text/plain": [
       "5.5"
      ]
     },
     "execution_count": 83,
     "metadata": {},
     "output_type": "execute_result"
    }
   ],
   "source": [
    "# Exercise 4 - Make a variable named mean_of_a to hold the average\n",
    "# of all the numbers in the above list\n",
    "sum(a) / len(a)"
   ]
  },
  {
   "cell_type": "code",
   "execution_count": 87,
   "id": "81809b06",
   "metadata": {},
   "outputs": [
    {
     "data": {
      "text/plain": [
       "1073741824"
      ]
     },
     "execution_count": 87,
     "metadata": {},
     "output_type": "execute_result"
    }
   ],
   "source": [
    "# Exercise 5 - Make a variable named product_of_a to hold the\n",
    "# product of multiplying all the numbers in the above list together\n",
    "product_of_a = 1\n",
    "for num in a:\n",
    "    product_of_a *= number\n",
    "product_of_a"
   ]
  },
  {
   "cell_type": "code",
   "execution_count": 90,
   "id": "f6ec9136",
   "metadata": {},
   "outputs": [
    {
     "data": {
      "text/plain": [
       "[1, 4, 9, 16, 25, 36, 49, 64, 81, 100]"
      ]
     },
     "execution_count": 90,
     "metadata": {},
     "output_type": "execute_result"
    }
   ],
   "source": [
    "# Exercise 6 - Make a variable named squares_of_a. \n",
    "# It should hold each number in a squared like [1, 4, 9, 16, 25...]\n",
    "squares_of_a = []\n",
    "for num in a:\n",
    "    squares_of_a.append(num**2)\n",
    "squares_of_a"
   ]
  },
  {
   "cell_type": "code",
   "execution_count": 93,
   "id": "1aa0e551",
   "metadata": {},
   "outputs": [
    {
     "data": {
      "text/plain": [
       "[1, 3, 5, 7, 9]"
      ]
     },
     "execution_count": 93,
     "metadata": {},
     "output_type": "execute_result"
    }
   ],
   "source": [
    "# Exercise 7 - Make a variable named odds_in_a. It should hold only the odd numbers\n",
    "odds_in_a = []\n",
    "for num in a:\n",
    "    if(num % 2 != 0):\n",
    "        odds_in_a.append(num)\n",
    "odds_in_a"
   ]
  },
  {
   "cell_type": "code",
   "execution_count": 96,
   "id": "72ffa6f5",
   "metadata": {},
   "outputs": [
    {
     "data": {
      "text/plain": [
       "[2, 4, 6, 8, 10]"
      ]
     },
     "execution_count": 96,
     "metadata": {},
     "output_type": "execute_result"
    }
   ],
   "source": [
    "# Exercise 8 - Make a variable named evens_in_a. It should hold only the evens.\n",
    "evens_in_a = []\n",
    "for num in a:\n",
    "    if(num % 2 == 0):\n",
    "        evens_in_a.append(num)\n",
    "evens_in_a"
   ]
  },
  {
   "cell_type": "code",
   "execution_count": 13,
   "id": "62d39aeb",
   "metadata": {},
   "outputs": [
    {
     "data": {
      "text/plain": [
       "array([[3, 4, 5],\n",
       "       [6, 7, 8]])"
      ]
     },
     "execution_count": 13,
     "metadata": {},
     "output_type": "execute_result"
    }
   ],
   "source": [
    "# What about life in two dimensions? A list of lists is\n",
    "# matrix, a table, a spreadsheet, a chessboard...\n",
    "# Setup 2: Consider what it would take to find the sum, min, max,\n",
    "# average, sum, product, and list of squares for this list of two lists.\n",
    "b = [\n",
    "    [3, 4, 5],\n",
    "    [6, 7, 8]\n",
    "]\n",
    "b_arr = np.array(b)\n",
    "b_arr"
   ]
  },
  {
   "cell_type": "code",
   "execution_count": 14,
   "id": "2e30248b",
   "metadata": {},
   "outputs": [
    {
     "data": {
      "text/plain": [
       "33"
      ]
     },
     "execution_count": 14,
     "metadata": {},
     "output_type": "execute_result"
    }
   ],
   "source": [
    "# Exercise 1 - refactor the following to use numpy. Use sum_of_b as the variable.\n",
    "# **Hint, you'll first need to make sure that the \"b\" variable is a numpy array**\n",
    "sum_of_b = 0\n",
    "for row in b:\n",
    "    sum_of_b += sum(row)\n",
    "sum_of_b"
   ]
  },
  {
   "cell_type": "code",
   "execution_count": 15,
   "id": "a4d8ed91",
   "metadata": {},
   "outputs": [
    {
     "data": {
      "text/plain": [
       "33"
      ]
     },
     "execution_count": 15,
     "metadata": {},
     "output_type": "execute_result"
    }
   ],
   "source": [
    "b_arr.sum()"
   ]
  },
  {
   "cell_type": "code",
   "execution_count": 16,
   "id": "f23cae40",
   "metadata": {},
   "outputs": [
    {
     "data": {
      "text/plain": [
       "3"
      ]
     },
     "execution_count": 16,
     "metadata": {},
     "output_type": "execute_result"
    }
   ],
   "source": [
    "# Exercise 2 - refactor the following to use numpy. \n",
    "min_of_b = min(b[0]) if min(b[0]) <= min(b[1]) else min(b[1])  \n",
    "min_of_b"
   ]
  },
  {
   "cell_type": "code",
   "execution_count": 17,
   "id": "f70602bb",
   "metadata": {},
   "outputs": [
    {
     "data": {
      "text/plain": [
       "3"
      ]
     },
     "execution_count": 17,
     "metadata": {},
     "output_type": "execute_result"
    }
   ],
   "source": [
    "b_arr.min()"
   ]
  },
  {
   "cell_type": "code",
   "execution_count": 18,
   "id": "496a4c90",
   "metadata": {},
   "outputs": [
    {
     "data": {
      "text/plain": [
       "8"
      ]
     },
     "execution_count": 18,
     "metadata": {},
     "output_type": "execute_result"
    }
   ],
   "source": [
    "# Exercise 3 - refactor the following maximum calculation to find the answer with numpy.\n",
    "max_of_b = max(b[0]) if max(b[0]) >= max(b[1]) else max(b[1])\n",
    "max_of_b"
   ]
  },
  {
   "cell_type": "code",
   "execution_count": 19,
   "id": "8f8cbef7",
   "metadata": {},
   "outputs": [
    {
     "data": {
      "text/plain": [
       "8"
      ]
     },
     "execution_count": 19,
     "metadata": {},
     "output_type": "execute_result"
    }
   ],
   "source": [
    "b_arr.max()"
   ]
  },
  {
   "cell_type": "code",
   "execution_count": 20,
   "id": "ca2cd3ae",
   "metadata": {},
   "outputs": [
    {
     "data": {
      "text/plain": [
       "5.5"
      ]
     },
     "execution_count": 20,
     "metadata": {},
     "output_type": "execute_result"
    }
   ],
   "source": [
    "# Exercise 4 - refactor the following using numpy to find the mean of b\n",
    "mean_of_b = (sum(b[0]) + sum(b[1])) / (len(b[0]) + len(b[1]))\n",
    "mean_of_b"
   ]
  },
  {
   "cell_type": "code",
   "execution_count": 21,
   "id": "edea61df",
   "metadata": {},
   "outputs": [
    {
     "data": {
      "text/plain": [
       "5.5"
      ]
     },
     "execution_count": 21,
     "metadata": {},
     "output_type": "execute_result"
    }
   ],
   "source": [
    "b_arr.mean()"
   ]
  },
  {
   "cell_type": "code",
   "execution_count": 25,
   "id": "935ef78d",
   "metadata": {},
   "outputs": [
    {
     "data": {
      "text/plain": [
       "20160"
      ]
     },
     "execution_count": 25,
     "metadata": {},
     "output_type": "execute_result"
    }
   ],
   "source": [
    "# Exercise 5 - refactor the following to use numpy for calculating\n",
    "# the product of all numbers multiplied together.\n",
    "product_of_b = 1\n",
    "for row in b:\n",
    "    for number in row:\n",
    "        product_of_b *= number\n",
    "product_of_b"
   ]
  },
  {
   "cell_type": "code",
   "execution_count": 24,
   "id": "8f41590b",
   "metadata": {},
   "outputs": [
    {
     "data": {
      "text/plain": [
       "20160"
      ]
     },
     "execution_count": 24,
     "metadata": {},
     "output_type": "execute_result"
    }
   ],
   "source": [
    "b_arr.prod()"
   ]
  },
  {
   "cell_type": "code",
   "execution_count": 26,
   "id": "432dd229",
   "metadata": {},
   "outputs": [
    {
     "data": {
      "text/plain": [
       "[9, 16, 25, 36, 49, 64]"
      ]
     },
     "execution_count": 26,
     "metadata": {},
     "output_type": "execute_result"
    }
   ],
   "source": [
    "# Exercise 6 - refactor the following to use numpy to find the list of squares \n",
    "squares_of_b = []\n",
    "for row in b:\n",
    "    for number in row:\n",
    "        squares_of_b.append(number**2)\n",
    "squares_of_b"
   ]
  },
  {
   "cell_type": "code",
   "execution_count": 28,
   "id": "e1896b4d",
   "metadata": {},
   "outputs": [
    {
     "data": {
      "text/plain": [
       "array([[ 9, 16, 25],\n",
       "       [36, 49, 64]])"
      ]
     },
     "execution_count": 28,
     "metadata": {},
     "output_type": "execute_result"
    }
   ],
   "source": [
    "b_arr ** 2"
   ]
  },
  {
   "cell_type": "code",
   "execution_count": 29,
   "id": "b0dc8cce",
   "metadata": {},
   "outputs": [
    {
     "data": {
      "text/plain": [
       "[3, 5, 7]"
      ]
     },
     "execution_count": 29,
     "metadata": {},
     "output_type": "execute_result"
    }
   ],
   "source": [
    "# Exercise 7 - refactor using numpy to determine the odds_in_b\n",
    "odds_in_b = []\n",
    "for row in b:\n",
    "    for number in row:\n",
    "        if(number % 2 != 0):\n",
    "            odds_in_b.append(number)\n",
    "odds_in_b"
   ]
  },
  {
   "cell_type": "code",
   "execution_count": 34,
   "id": "5df2888a",
   "metadata": {},
   "outputs": [
    {
     "data": {
      "text/plain": [
       "array([3, 5, 7])"
      ]
     },
     "execution_count": 34,
     "metadata": {},
     "output_type": "execute_result"
    }
   ],
   "source": [
    "b_arr[b_arr % 2 == 1]"
   ]
  },
  {
   "cell_type": "code",
   "execution_count": 35,
   "id": "33a658fc",
   "metadata": {},
   "outputs": [
    {
     "data": {
      "text/plain": [
       "[4, 6, 8]"
      ]
     },
     "execution_count": 35,
     "metadata": {},
     "output_type": "execute_result"
    }
   ],
   "source": [
    "# Exercise 8 - refactor the following to use numpy to filter only the even numbers\n",
    "evens_in_b = []\n",
    "for row in b:\n",
    "    for number in row:\n",
    "        if(number % 2 == 0):\n",
    "            evens_in_b.append(number)\n",
    "evens_in_b"
   ]
  },
  {
   "cell_type": "code",
   "execution_count": 36,
   "id": "cc2a8c18",
   "metadata": {},
   "outputs": [
    {
     "data": {
      "text/plain": [
       "array([4, 6, 8])"
      ]
     },
     "execution_count": 36,
     "metadata": {},
     "output_type": "execute_result"
    }
   ],
   "source": [
    "b_arr[b_arr % 2 == 0]"
   ]
  },
  {
   "cell_type": "code",
   "execution_count": 37,
   "id": "60055915",
   "metadata": {},
   "outputs": [
    {
     "data": {
      "text/plain": [
       "(2, 3)"
      ]
     },
     "execution_count": 37,
     "metadata": {},
     "output_type": "execute_result"
    }
   ],
   "source": [
    "# Exercise 9 - print out the shape of the array b.\n",
    "b_arr.shape"
   ]
  },
  {
   "cell_type": "code",
   "execution_count": 38,
   "id": "31934a33",
   "metadata": {},
   "outputs": [
    {
     "data": {
      "text/plain": [
       "array([[3, 6],\n",
       "       [4, 7],\n",
       "       [5, 8]])"
      ]
     },
     "execution_count": 38,
     "metadata": {},
     "output_type": "execute_result"
    }
   ],
   "source": [
    "# Exercise 10 - transpose the array b.\n",
    "b_arr.T"
   ]
  },
  {
   "cell_type": "code",
   "execution_count": 40,
   "id": "6a44fb2a",
   "metadata": {},
   "outputs": [
    {
     "data": {
      "text/plain": [
       "array([[3, 4, 5, 6, 7, 8]])"
      ]
     },
     "execution_count": 40,
     "metadata": {},
     "output_type": "execute_result"
    }
   ],
   "source": [
    "# Exercise 11 - reshape the array b to be a single list of 6 numbers. (1 x 6)\n",
    "b_arr.reshape((1, 6))"
   ]
  },
  {
   "cell_type": "code",
   "execution_count": 41,
   "id": "b578b838",
   "metadata": {},
   "outputs": [
    {
     "data": {
      "text/plain": [
       "array([[3],\n",
       "       [4],\n",
       "       [5],\n",
       "       [6],\n",
       "       [7],\n",
       "       [8]])"
      ]
     },
     "execution_count": 41,
     "metadata": {},
     "output_type": "execute_result"
    }
   ],
   "source": [
    "# Exercise 12 - reshape the array b to be a list of 6 lists,\n",
    "# each containing only 1 number (6 x 1)\n",
    "b_arr.reshape((6, 1))"
   ]
  },
  {
   "cell_type": "code",
   "execution_count": 42,
   "id": "9b208a21",
   "metadata": {},
   "outputs": [
    {
     "data": {
      "text/plain": [
       "[[1, 2, 3], [4, 5, 6], [7, 8, 9]]"
      ]
     },
     "execution_count": 42,
     "metadata": {},
     "output_type": "execute_result"
    }
   ],
   "source": [
    "## Setup 3\n",
    "c = [\n",
    "    [1, 2, 3],\n",
    "    [4, 5, 6],\n",
    "    [7, 8, 9]\n",
    "]\n",
    "\n",
    "# HINT, you'll first need to make sure that the \"c\" variable is a numpy\n",
    "# array prior to using numpy array methods.\n",
    "c_arr = np.array(c)\n",
    "c"
   ]
  },
  {
   "cell_type": "code",
   "execution_count": 46,
   "id": "fec429cb",
   "metadata": {},
   "outputs": [
    {
     "name": "stdout",
     "output_type": "stream",
     "text": [
      "\n",
      "       min: 1 \t sum: 45\n",
      "       max: 9 \t product: 362880\n",
      "        \n"
     ]
    }
   ],
   "source": [
    "# Exercise 1 - Find the min, max, sum, and product of c.\n",
    "print(f\"\"\"\n",
    "       min: {c_arr.min()} \\t sum: {c_arr.sum()}\n",
    "       max: {c_arr.max()} \\t product: {c_arr.prod()}\n",
    "        \"\"\")"
   ]
  },
  {
   "cell_type": "code",
   "execution_count": 48,
   "id": "5ac28bf0",
   "metadata": {},
   "outputs": [
    {
     "data": {
      "text/plain": [
       "2.581988897471611"
      ]
     },
     "execution_count": 48,
     "metadata": {},
     "output_type": "execute_result"
    }
   ],
   "source": [
    "# Exercise 2 - Determine the standard deviation of c.\n",
    "c_arr.std()"
   ]
  },
  {
   "cell_type": "code",
   "execution_count": 49,
   "id": "5c06d9cb",
   "metadata": {},
   "outputs": [
    {
     "data": {
      "text/plain": [
       "6.666666666666667"
      ]
     },
     "execution_count": 49,
     "metadata": {},
     "output_type": "execute_result"
    }
   ],
   "source": [
    "# Exercise 3 - Determine the variance of c.\n",
    "c_arr.var()"
   ]
  },
  {
   "cell_type": "code",
   "execution_count": 50,
   "id": "cb44631e",
   "metadata": {},
   "outputs": [
    {
     "data": {
      "text/plain": [
       "(3, 3)"
      ]
     },
     "execution_count": 50,
     "metadata": {},
     "output_type": "execute_result"
    }
   ],
   "source": [
    "# Exercise 4 - Print out the shape of the array c\n",
    "c_arr.shape"
   ]
  },
  {
   "cell_type": "code",
   "execution_count": 51,
   "id": "ecfcc568",
   "metadata": {},
   "outputs": [
    {
     "data": {
      "text/plain": [
       "array([[1, 4, 7],\n",
       "       [2, 5, 8],\n",
       "       [3, 6, 9]])"
      ]
     },
     "execution_count": 51,
     "metadata": {},
     "output_type": "execute_result"
    }
   ],
   "source": [
    "# Exercise 5 - Transpose c and print out transposed result.\n",
    "c_arr.T"
   ]
  },
  {
   "cell_type": "code",
   "execution_count": 53,
   "id": "53b74c98",
   "metadata": {},
   "outputs": [
    {
     "data": {
      "text/plain": [
       "array([[ 30,  36,  42],\n",
       "       [ 66,  81,  96],\n",
       "       [102, 126, 150]])"
      ]
     },
     "execution_count": 53,
     "metadata": {},
     "output_type": "execute_result"
    }
   ],
   "source": [
    "# Exercise 6 - Get the dot product of the array c with c. \n",
    "c_arr.dot(c)"
   ]
  },
  {
   "cell_type": "code",
   "execution_count": 57,
   "id": "1de5e86b",
   "metadata": {},
   "outputs": [
    {
     "data": {
      "text/plain": [
       "261"
      ]
     },
     "execution_count": 57,
     "metadata": {},
     "output_type": "execute_result"
    }
   ],
   "source": [
    "# Exercise 7 - Write the code necessary to sum up the result of\n",
    "# c times c transposed. Answer should be 261\n",
    "(c_arr * c_arr.T).sum()"
   ]
  },
  {
   "cell_type": "code",
   "execution_count": 58,
   "id": "697af2b3",
   "metadata": {},
   "outputs": [
    {
     "data": {
      "text/plain": [
       "131681894400"
      ]
     },
     "execution_count": 58,
     "metadata": {},
     "output_type": "execute_result"
    }
   ],
   "source": [
    "# Exercise 8 - Write the code necessary to determine the product of\n",
    "# c times c transposed. Answer should be 131681894400.\n",
    "(c_arr * c_arr.T).prod()"
   ]
  },
  {
   "cell_type": "code",
   "execution_count": 59,
   "id": "8af8f47d",
   "metadata": {},
   "outputs": [
    {
     "data": {
      "text/plain": [
       "array([[ 90,  30,  45,   0, 120, 180],\n",
       "       [ 45, -90, -30, 270,  90,   0],\n",
       "       [ 60,  45, -45,  90, -45, 180]])"
      ]
     },
     "execution_count": 59,
     "metadata": {},
     "output_type": "execute_result"
    }
   ],
   "source": [
    "## Setup 4\n",
    "d = [\n",
    "    [90, 30, 45, 0, 120, 180],\n",
    "    [45, -90, -30, 270, 90, 0],\n",
    "    [60, 45, -45, 90, -45, 180]\n",
    "]\n",
    "d_arr = np.array(d)\n",
    "d_arr"
   ]
  },
  {
   "cell_type": "code",
   "execution_count": 61,
   "id": "5bac63ba",
   "metadata": {},
   "outputs": [
    {
     "data": {
      "text/plain": [
       "array([[ 0.89399666, -0.98803162,  0.85090352,  0.        ,  0.58061118,\n",
       "        -0.80115264],\n",
       "       [ 0.85090352, -0.89399666,  0.98803162, -0.17604595,  0.89399666,\n",
       "         0.        ],\n",
       "       [-0.30481062,  0.85090352, -0.85090352,  0.89399666, -0.85090352,\n",
       "        -0.80115264]])"
      ]
     },
     "execution_count": 61,
     "metadata": {},
     "output_type": "execute_result"
    }
   ],
   "source": [
    "# Exercise 1 - Find the sine of all the numbers in d\n",
    "np.sin(d_arr)"
   ]
  },
  {
   "cell_type": "code",
   "execution_count": 66,
   "id": "a31decbf",
   "metadata": {},
   "outputs": [
    {
     "data": {
      "text/plain": [
       "array([[ 1.        ,  0.5       ,  0.70710678,  0.        ,  0.8660254 ,\n",
       "         0.        ],\n",
       "       [ 0.70710678, -1.        , -0.5       , -1.        ,  1.        ,\n",
       "         0.        ],\n",
       "       [ 0.8660254 ,  0.70710678, -0.70710678,  1.        , -0.70710678,\n",
       "         0.        ]])"
      ]
     },
     "execution_count": 66,
     "metadata": {},
     "output_type": "execute_result"
    }
   ],
   "source": [
    "np.set_printoptions(suppress=True)\n",
    "np.sin(d_arr * (np.pi / 180) )"
   ]
  },
  {
   "cell_type": "code",
   "execution_count": 67,
   "id": "3ade2d2c",
   "metadata": {},
   "outputs": [
    {
     "data": {
      "text/plain": [
       "array([[ 0.        ,  0.8660254 ,  0.70710678,  1.        , -0.5       ,\n",
       "        -1.        ],\n",
       "       [ 0.70710678,  0.        ,  0.8660254 , -0.        ,  0.        ,\n",
       "         1.        ],\n",
       "       [ 0.5       ,  0.70710678,  0.70710678,  0.        ,  0.70710678,\n",
       "        -1.        ]])"
      ]
     },
     "execution_count": 67,
     "metadata": {},
     "output_type": "execute_result"
    }
   ],
   "source": [
    "# Exercise 2 - Find the cosine of all the numbers in d\n",
    "np.cos(d_arr * (np.pi / 180) )"
   ]
  },
  {
   "cell_type": "code",
   "execution_count": 70,
   "id": "fedde61d",
   "metadata": {},
   "outputs": [
    {
     "data": {
      "text/plain": [
       "array([[ 1.63312394e+16,  5.77350269e-01,  1.00000000e+00,\n",
       "         0.00000000e+00, -1.73205081e+00, -1.22464680e-16],\n",
       "       [ 1.00000000e+00, -1.63312394e+16, -5.77350269e-01,\n",
       "         5.44374645e+15,  1.63312394e+16,  0.00000000e+00],\n",
       "       [ 1.73205081e+00,  1.00000000e+00, -1.00000000e+00,\n",
       "         1.63312394e+16, -1.00000000e+00, -1.22464680e-16]])"
      ]
     },
     "execution_count": 70,
     "metadata": {},
     "output_type": "execute_result"
    }
   ],
   "source": [
    "# Exercise 3 - Find the tangent of all the numbers in d\n",
    "np.tan(d_arr * (np.pi / 180) )"
   ]
  },
  {
   "cell_type": "code",
   "execution_count": 71,
   "id": "7921ad65",
   "metadata": {},
   "outputs": [
    {
     "data": {
      "text/plain": [
       "array([-90, -30, -45, -45])"
      ]
     },
     "execution_count": 71,
     "metadata": {},
     "output_type": "execute_result"
    }
   ],
   "source": [
    "# Exercise 4 - Find all the negative numbers in d\n",
    "d_arr[d_arr < 0]"
   ]
  },
  {
   "cell_type": "code",
   "execution_count": 72,
   "id": "63d677f5",
   "metadata": {},
   "outputs": [
    {
     "data": {
      "text/plain": [
       "array([ 90,  30,  45, 120, 180,  45, 270,  90,  60,  45,  90, 180])"
      ]
     },
     "execution_count": 72,
     "metadata": {},
     "output_type": "execute_result"
    }
   ],
   "source": [
    "# Exercise 5 - Find all the positive numbers in d\n",
    "d_arr[d_arr > 0]"
   ]
  },
  {
   "cell_type": "code",
   "execution_count": 75,
   "id": "70967068",
   "metadata": {},
   "outputs": [
    {
     "data": {
      "text/plain": [
       "array([-90, -45, -30,   0,  30,  45,  60,  90, 120, 180, 270])"
      ]
     },
     "execution_count": 75,
     "metadata": {},
     "output_type": "execute_result"
    }
   ],
   "source": [
    "# Exercise 6 - Return an array of only the unique numbers in d\n",
    "np.unique(d_arr)"
   ]
  },
  {
   "cell_type": "code",
   "execution_count": 76,
   "id": "29854c1c",
   "metadata": {},
   "outputs": [
    {
     "data": {
      "text/plain": [
       "11"
      ]
     },
     "execution_count": 76,
     "metadata": {},
     "output_type": "execute_result"
    }
   ],
   "source": [
    "# Exercise 7 - Determine how many unique numbers there are in d.\n",
    "len(np.unique(d_arr))"
   ]
  },
  {
   "cell_type": "code",
   "execution_count": 77,
   "id": "45ad3225",
   "metadata": {},
   "outputs": [
    {
     "data": {
      "text/plain": [
       "(3, 6)"
      ]
     },
     "execution_count": 77,
     "metadata": {},
     "output_type": "execute_result"
    }
   ],
   "source": [
    "# Exercise 8 - Print out the shape of d.\n",
    "d_arr.shape"
   ]
  },
  {
   "cell_type": "code",
   "execution_count": 78,
   "id": "330077f6",
   "metadata": {},
   "outputs": [
    {
     "data": {
      "text/plain": [
       "(6, 3)"
      ]
     },
     "execution_count": 78,
     "metadata": {},
     "output_type": "execute_result"
    }
   ],
   "source": [
    "# Exercise 9 - Transpose and then print out the shape of d.\n",
    "d_arr.T.shape"
   ]
  },
  {
   "cell_type": "code",
   "execution_count": 79,
   "id": "d8ef031c",
   "metadata": {},
   "outputs": [
    {
     "data": {
      "text/plain": [
       "array([[ 90,  30],\n",
       "       [ 45,   0],\n",
       "       [120, 180],\n",
       "       [ 45, -90],\n",
       "       [-30, 270],\n",
       "       [ 90,   0],\n",
       "       [ 60,  45],\n",
       "       [-45,  90],\n",
       "       [-45, 180]])"
      ]
     },
     "execution_count": 79,
     "metadata": {},
     "output_type": "execute_result"
    }
   ],
   "source": [
    "# Exercise 10 - Reshape d into an array of 9 x 2\n",
    "d_arr.reshape((9,2))"
   ]
  },
  {
   "cell_type": "markdown",
   "id": "fe2ca06a",
   "metadata": {},
   "source": [
    "**Bonus** \n",
    "\n",
    "From: https://github.com/rougier/numpy-100"
   ]
  },
  {
   "cell_type": "markdown",
   "id": "b05e39fd",
   "metadata": {},
   "source": [
    "# 100 numpy exercises\n",
    "\n",
    "This is a collection of exercises that have been collected in the numpy mailing list, on stack overflow and in the numpy documentation. The goal of this collection is to offer a quick reference for both old and new users but also to provide a set of exercises for those who teach."
   ]
  },
  {
   "cell_type": "markdown",
   "id": "cec44351",
   "metadata": {},
   "source": [
    "#### 1. Import the numpy package under the name `np` (★☆☆)"
   ]
  },
  {
   "cell_type": "code",
   "execution_count": 29,
   "id": "6968f3ce",
   "metadata": {},
   "outputs": [],
   "source": [
    "import numpy as np"
   ]
  },
  {
   "cell_type": "markdown",
   "id": "5d2457bd",
   "metadata": {},
   "source": [
    "#### 2. Print the numpy version and the configuration (★☆☆)"
   ]
  },
  {
   "cell_type": "code",
   "execution_count": null,
   "id": "507e4347",
   "metadata": {},
   "outputs": [],
   "source": [
    "print()"
   ]
  },
  {
   "cell_type": "markdown",
   "id": "38befcd9",
   "metadata": {},
   "source": [
    "#### 3. Create a null vector of size 10 (★☆☆)"
   ]
  },
  {
   "cell_type": "code",
   "execution_count": null,
   "id": "e99fae5b",
   "metadata": {},
   "outputs": [],
   "source": []
  },
  {
   "cell_type": "markdown",
   "id": "aea82caf",
   "metadata": {},
   "source": [
    "#### 4. How to find the memory size of any array (★☆☆)"
   ]
  },
  {
   "cell_type": "code",
   "execution_count": null,
   "id": "b4135b93",
   "metadata": {},
   "outputs": [],
   "source": []
  },
  {
   "cell_type": "markdown",
   "id": "7cd4b8d6",
   "metadata": {},
   "source": [
    "#### 5. How to get the documentation of the numpy add function from the command line? (★☆☆)"
   ]
  },
  {
   "cell_type": "code",
   "execution_count": null,
   "id": "e612f557",
   "metadata": {},
   "outputs": [],
   "source": []
  },
  {
   "cell_type": "markdown",
   "id": "88a96740",
   "metadata": {},
   "source": [
    "#### 6. Create a null vector of size 10 but the fifth value which is 1 (★☆☆)"
   ]
  },
  {
   "cell_type": "code",
   "execution_count": null,
   "id": "a9c0ce96",
   "metadata": {},
   "outputs": [],
   "source": []
  },
  {
   "cell_type": "markdown",
   "id": "2b05c959",
   "metadata": {},
   "source": [
    "#### 7. Create a vector with values ranging from 10 to 49 (★☆☆)"
   ]
  },
  {
   "cell_type": "code",
   "execution_count": null,
   "id": "2d060f0e",
   "metadata": {},
   "outputs": [],
   "source": []
  },
  {
   "cell_type": "markdown",
   "id": "80b1d59c",
   "metadata": {},
   "source": [
    "#### 8. Reverse a vector (first element becomes last) (★☆☆)"
   ]
  },
  {
   "cell_type": "code",
   "execution_count": null,
   "id": "3f2c0769",
   "metadata": {},
   "outputs": [],
   "source": []
  },
  {
   "cell_type": "markdown",
   "id": "5ccc9aa6",
   "metadata": {},
   "source": [
    "#### 9. Create a 3x3 matrix with values ranging from 0 to 8 (★☆☆)"
   ]
  },
  {
   "cell_type": "code",
   "execution_count": null,
   "id": "e3231ef7",
   "metadata": {},
   "outputs": [],
   "source": []
  },
  {
   "cell_type": "markdown",
   "id": "38d3da88",
   "metadata": {},
   "source": [
    "#### 10. Find indices of non-zero elements from [1,2,0,0,4,0] (★☆☆)"
   ]
  },
  {
   "cell_type": "code",
   "execution_count": null,
   "id": "c6cd4469",
   "metadata": {},
   "outputs": [],
   "source": []
  },
  {
   "cell_type": "markdown",
   "id": "5425c371",
   "metadata": {},
   "source": [
    "#### 11. Create a 3x3 identity matrix (★☆☆)\n"
   ]
  },
  {
   "cell_type": "code",
   "execution_count": null,
   "id": "13cc9ecb",
   "metadata": {},
   "outputs": [],
   "source": []
  },
  {
   "cell_type": "markdown",
   "id": "5b4a1902",
   "metadata": {},
   "source": [
    "#### 12. Create a 3x3x3 array with random values (★☆☆)\n"
   ]
  },
  {
   "cell_type": "code",
   "execution_count": null,
   "id": "61cee3c2",
   "metadata": {},
   "outputs": [],
   "source": []
  },
  {
   "cell_type": "markdown",
   "id": "07016dab",
   "metadata": {},
   "source": [
    "#### 13. Create a 10x10 array with random values and find the minimum and maximum values (★☆☆)\n"
   ]
  },
  {
   "cell_type": "code",
   "execution_count": null,
   "id": "b73af211",
   "metadata": {},
   "outputs": [],
   "source": []
  },
  {
   "cell_type": "markdown",
   "id": "816a0b71",
   "metadata": {},
   "source": [
    "#### 14. Create a random vector of size 30 and find the mean value (★☆☆)\n"
   ]
  },
  {
   "cell_type": "code",
   "execution_count": null,
   "id": "7d7a966b",
   "metadata": {},
   "outputs": [],
   "source": []
  },
  {
   "cell_type": "markdown",
   "id": "a8f26ece",
   "metadata": {},
   "source": [
    "#### 15. Create a 2d array with 1 on the border and 0 inside (★☆☆)\n"
   ]
  },
  {
   "cell_type": "code",
   "execution_count": null,
   "id": "8610d21f",
   "metadata": {},
   "outputs": [],
   "source": []
  },
  {
   "cell_type": "markdown",
   "id": "a0ea3191",
   "metadata": {},
   "source": [
    "#### 16. How to add a border (filled with 0's) around an existing array? (★☆☆)\n"
   ]
  },
  {
   "cell_type": "code",
   "execution_count": null,
   "id": "db355ddc",
   "metadata": {},
   "outputs": [],
   "source": []
  },
  {
   "cell_type": "markdown",
   "id": "762fd650",
   "metadata": {},
   "source": [
    "#### 17. What is the result of the following expression? (★☆☆)\n",
    "```python\n",
    "0 * np.nan\n",
    "np.nan == np.nan\n",
    "np.inf > np.nan\n",
    "np.nan - np.nan\n",
    "np.nan in set([np.nan])\n",
    "0.3 == 3 * 0.1\n",
    "```"
   ]
  },
  {
   "cell_type": "code",
   "execution_count": null,
   "id": "cd69fc05",
   "metadata": {},
   "outputs": [],
   "source": []
  },
  {
   "cell_type": "markdown",
   "id": "98e4f48e",
   "metadata": {},
   "source": [
    "#### 18. Create a 5x5 matrix with values 1,2,3,4 just below the diagonal (★☆☆)\n"
   ]
  },
  {
   "cell_type": "code",
   "execution_count": null,
   "id": "1c793596",
   "metadata": {},
   "outputs": [],
   "source": []
  },
  {
   "cell_type": "markdown",
   "id": "782ba567",
   "metadata": {},
   "source": [
    "#### 19. Create a 8x8 matrix and fill it with a checkerboard pattern (★☆☆)\n"
   ]
  },
  {
   "cell_type": "code",
   "execution_count": null,
   "id": "c7c496f9",
   "metadata": {},
   "outputs": [],
   "source": []
  },
  {
   "cell_type": "markdown",
   "id": "bdea1704",
   "metadata": {},
   "source": [
    "#### 20. Consider a (6,7,8) shape array, what is the index (x,y,z) of the 100th element? (★☆☆)\n"
   ]
  },
  {
   "cell_type": "code",
   "execution_count": null,
   "id": "355fcba1",
   "metadata": {},
   "outputs": [],
   "source": []
  },
  {
   "cell_type": "markdown",
   "id": "f57cec0b",
   "metadata": {},
   "source": [
    "#### 21. Create a checkerboard 8x8 matrix using the tile function (★☆☆)\n"
   ]
  },
  {
   "cell_type": "code",
   "execution_count": null,
   "id": "d039679e",
   "metadata": {},
   "outputs": [],
   "source": []
  },
  {
   "cell_type": "markdown",
   "id": "e762e2c4",
   "metadata": {},
   "source": [
    "#### 22. Normalize a 5x5 random matrix (★☆☆)\n"
   ]
  },
  {
   "cell_type": "code",
   "execution_count": null,
   "id": "edecda8a",
   "metadata": {},
   "outputs": [],
   "source": []
  },
  {
   "cell_type": "markdown",
   "id": "1fbbd25d",
   "metadata": {},
   "source": [
    "#### 23. Create a custom dtype that describes a color as four unsigned bytes (RGBA) (★☆☆)\n"
   ]
  },
  {
   "cell_type": "code",
   "execution_count": null,
   "id": "8108afc1",
   "metadata": {},
   "outputs": [],
   "source": []
  },
  {
   "cell_type": "markdown",
   "id": "b790db20",
   "metadata": {},
   "source": [
    "#### 24. Multiply a 5x3 matrix by a 3x2 matrix (real matrix product) (★☆☆)\n"
   ]
  },
  {
   "cell_type": "code",
   "execution_count": null,
   "id": "c391df7a",
   "metadata": {},
   "outputs": [],
   "source": []
  },
  {
   "cell_type": "markdown",
   "id": "cf06e8f3",
   "metadata": {},
   "source": [
    "#### 25. Given a 1D array, negate all elements which are between 3 and 8, in place. (★☆☆)\n"
   ]
  },
  {
   "cell_type": "code",
   "execution_count": null,
   "id": "cb332d09",
   "metadata": {},
   "outputs": [],
   "source": []
  },
  {
   "cell_type": "markdown",
   "id": "16c5a847",
   "metadata": {},
   "source": [
    "#### 26. What is the output of the following script? (★☆☆)\n",
    "```python\n",
    "# Author: Jake VanderPlas\n",
    "\n",
    "print(sum(range(5),-1))\n",
    "from numpy import *\n",
    "print(sum(range(5),-1))\n",
    "```"
   ]
  },
  {
   "cell_type": "code",
   "execution_count": null,
   "id": "d6d0d4a2",
   "metadata": {},
   "outputs": [],
   "source": []
  },
  {
   "cell_type": "markdown",
   "id": "15a7ef8c",
   "metadata": {},
   "source": [
    "#### 27. Consider an integer vector Z, which of these expressions are legal? (★☆☆)\n",
    "```python\n",
    "Z**Z\n",
    "2 << Z >> 2\n",
    "Z <- Z\n",
    "1j*Z\n",
    "Z/1/1\n",
    "Z<Z>Z\n",
    "```"
   ]
  },
  {
   "cell_type": "code",
   "execution_count": null,
   "id": "37fe77b1",
   "metadata": {},
   "outputs": [],
   "source": []
  },
  {
   "cell_type": "markdown",
   "id": "81ebf2d3",
   "metadata": {},
   "source": [
    "#### 28. What are the result of the following expressions? (★☆☆)\n",
    "```python\n",
    "np.array(0) / np.array(0)\n",
    "np.array(0) // np.array(0)\n",
    "np.array([np.nan]).astype(int).astype(float)\n",
    "```"
   ]
  },
  {
   "cell_type": "code",
   "execution_count": null,
   "id": "91008d3f",
   "metadata": {},
   "outputs": [],
   "source": []
  },
  {
   "cell_type": "markdown",
   "id": "29ffffce",
   "metadata": {},
   "source": [
    "#### 29. How to round away from zero a float array ? (★☆☆)\n"
   ]
  },
  {
   "cell_type": "code",
   "execution_count": null,
   "id": "3212d4b5",
   "metadata": {},
   "outputs": [],
   "source": []
  },
  {
   "cell_type": "markdown",
   "id": "b689da3c",
   "metadata": {},
   "source": [
    "#### 30. How to find common values between two arrays? (★☆☆)\n"
   ]
  },
  {
   "cell_type": "code",
   "execution_count": null,
   "id": "6605c60a",
   "metadata": {},
   "outputs": [],
   "source": []
  },
  {
   "cell_type": "markdown",
   "id": "59de3261",
   "metadata": {},
   "source": [
    "#### 31. How to ignore all numpy warnings (not recommended)? (★☆☆)\n"
   ]
  },
  {
   "cell_type": "code",
   "execution_count": null,
   "id": "18d62981",
   "metadata": {},
   "outputs": [],
   "source": []
  },
  {
   "cell_type": "markdown",
   "id": "0ddf0213",
   "metadata": {},
   "source": [
    "#### 32. Is the following expressions true? (★☆☆)\n",
    "```python\n",
    "np.sqrt(-1) == np.emath.sqrt(-1)\n",
    "```"
   ]
  },
  {
   "cell_type": "code",
   "execution_count": null,
   "id": "8670ca1d",
   "metadata": {},
   "outputs": [],
   "source": []
  },
  {
   "cell_type": "markdown",
   "id": "82641147",
   "metadata": {},
   "source": [
    "#### 33. How to get the dates of yesterday, today and tomorrow? (★☆☆)\n"
   ]
  },
  {
   "cell_type": "code",
   "execution_count": null,
   "id": "119c1b89",
   "metadata": {},
   "outputs": [],
   "source": []
  },
  {
   "cell_type": "markdown",
   "id": "5573629f",
   "metadata": {},
   "source": [
    "#### 34. How to get all the dates corresponding to the month of July 2016? (★★☆)\n"
   ]
  },
  {
   "cell_type": "code",
   "execution_count": null,
   "id": "5f701411",
   "metadata": {},
   "outputs": [],
   "source": []
  },
  {
   "cell_type": "markdown",
   "id": "647d408b",
   "metadata": {},
   "source": [
    "#### 35. How to compute ((A+B)*(-A/2)) in place (without copy)? (★★☆)\n"
   ]
  },
  {
   "cell_type": "code",
   "execution_count": null,
   "id": "e431d61c",
   "metadata": {},
   "outputs": [],
   "source": []
  },
  {
   "cell_type": "markdown",
   "id": "484b48a2",
   "metadata": {},
   "source": [
    "#### 36. Extract the integer part of a random array of positive numbers using 4 different methods (★★☆)\n"
   ]
  },
  {
   "cell_type": "code",
   "execution_count": null,
   "id": "d31be867",
   "metadata": {},
   "outputs": [],
   "source": []
  },
  {
   "cell_type": "markdown",
   "id": "4b415ebe",
   "metadata": {},
   "source": [
    "#### 37. Create a 5x5 matrix with row values ranging from 0 to 4 (★★☆)\n"
   ]
  },
  {
   "cell_type": "code",
   "execution_count": null,
   "id": "3d3e634b",
   "metadata": {},
   "outputs": [],
   "source": []
  },
  {
   "cell_type": "markdown",
   "id": "a15ca766",
   "metadata": {},
   "source": [
    "#### 38. Consider a generator function that generates 10 integers and use it to build an array (★☆☆)\n"
   ]
  },
  {
   "cell_type": "code",
   "execution_count": null,
   "id": "60a226bb",
   "metadata": {},
   "outputs": [],
   "source": []
  },
  {
   "cell_type": "markdown",
   "id": "f929aaa3",
   "metadata": {},
   "source": [
    "#### 39. Create a vector of size 10 with values ranging from 0 to 1, both excluded (★★☆)\n"
   ]
  },
  {
   "cell_type": "code",
   "execution_count": null,
   "id": "96257463",
   "metadata": {},
   "outputs": [],
   "source": []
  },
  {
   "cell_type": "markdown",
   "id": "36a65440",
   "metadata": {},
   "source": [
    "#### 40. Create a random vector of size 10 and sort it (★★☆)\n"
   ]
  },
  {
   "cell_type": "code",
   "execution_count": null,
   "id": "b590f2d4",
   "metadata": {},
   "outputs": [],
   "source": []
  },
  {
   "cell_type": "markdown",
   "id": "60532f29",
   "metadata": {},
   "source": [
    "#### 41. How to sum a small array faster than np.sum? (★★☆)\n"
   ]
  },
  {
   "cell_type": "code",
   "execution_count": null,
   "id": "31868f7e",
   "metadata": {},
   "outputs": [],
   "source": []
  },
  {
   "cell_type": "markdown",
   "id": "5730c12c",
   "metadata": {},
   "source": [
    "#### 42. Consider two random array A and B, check if they are equal (★★☆)\n"
   ]
  },
  {
   "cell_type": "code",
   "execution_count": null,
   "id": "2fd824e2",
   "metadata": {},
   "outputs": [],
   "source": []
  },
  {
   "cell_type": "markdown",
   "id": "da9d544d",
   "metadata": {},
   "source": [
    "#### 43. Make an array immutable (read-only) (★★☆)\n"
   ]
  },
  {
   "cell_type": "code",
   "execution_count": null,
   "id": "3bbcfb42",
   "metadata": {},
   "outputs": [],
   "source": []
  },
  {
   "cell_type": "markdown",
   "id": "29bcb66f",
   "metadata": {},
   "source": [
    "#### 44. Consider a random 10x2 matrix representing cartesian coordinates, convert them to polar coordinates (★★☆)"
   ]
  },
  {
   "cell_type": "code",
   "execution_count": null,
   "id": "6486cd49",
   "metadata": {},
   "outputs": [],
   "source": []
  },
  {
   "cell_type": "markdown",
   "id": "60c3d84b",
   "metadata": {},
   "source": [
    "#### 45. Create random vector of size 10 and replace the maximum value by 0 (★★☆)\n"
   ]
  },
  {
   "cell_type": "code",
   "execution_count": null,
   "id": "061c4ac7",
   "metadata": {},
   "outputs": [],
   "source": []
  },
  {
   "cell_type": "markdown",
   "id": "ad5e9e13",
   "metadata": {},
   "source": [
    "#### 46. Create a structured array with `x` and `y` coordinates covering the [0,1]x[0,1] area (★★☆)\n"
   ]
  },
  {
   "cell_type": "code",
   "execution_count": null,
   "id": "83708831",
   "metadata": {},
   "outputs": [],
   "source": []
  },
  {
   "cell_type": "markdown",
   "id": "91a8929d",
   "metadata": {},
   "source": [
    "#### 47. Given two arrays, X and Y, construct the Cauchy matrix C (Cij =1/(xi - yj)) (★★☆)\n"
   ]
  },
  {
   "cell_type": "code",
   "execution_count": null,
   "id": "03e0519d",
   "metadata": {},
   "outputs": [],
   "source": []
  },
  {
   "cell_type": "markdown",
   "id": "e64e502b",
   "metadata": {},
   "source": [
    "#### 48. Print the minimum and maximum representable value for each numpy scalar type (★★☆)\n"
   ]
  },
  {
   "cell_type": "code",
   "execution_count": null,
   "id": "b4450b8f",
   "metadata": {},
   "outputs": [],
   "source": []
  },
  {
   "cell_type": "markdown",
   "id": "3ae1d083",
   "metadata": {},
   "source": [
    "#### 49. How to print all the values of an array? (★★☆)\n"
   ]
  },
  {
   "cell_type": "code",
   "execution_count": null,
   "id": "5126dedb",
   "metadata": {},
   "outputs": [],
   "source": []
  },
  {
   "cell_type": "markdown",
   "id": "19cf02ff",
   "metadata": {},
   "source": [
    "#### 50. How to find the closest value (to a given scalar) in a vector? (★★☆)\n"
   ]
  },
  {
   "cell_type": "code",
   "execution_count": null,
   "id": "245dee33",
   "metadata": {},
   "outputs": [],
   "source": []
  },
  {
   "cell_type": "markdown",
   "id": "0280ed16",
   "metadata": {},
   "source": [
    "#### 51. Create a structured array representing a position (x,y) and a color (r,g,b) (★★☆)\n"
   ]
  },
  {
   "cell_type": "code",
   "execution_count": null,
   "id": "a5bd037c",
   "metadata": {},
   "outputs": [],
   "source": []
  },
  {
   "cell_type": "markdown",
   "id": "00879506",
   "metadata": {},
   "source": [
    "#### 52. Consider a random vector with shape (100,2) representing coordinates, find point by point distances (★★☆)"
   ]
  },
  {
   "cell_type": "code",
   "execution_count": null,
   "id": "45126191",
   "metadata": {},
   "outputs": [],
   "source": []
  },
  {
   "cell_type": "markdown",
   "id": "24d6a558",
   "metadata": {},
   "source": [
    "#### 53. How to convert a float (32 bits) array into an integer (32 bits) in place?\n"
   ]
  },
  {
   "cell_type": "code",
   "execution_count": null,
   "id": "ca87fe45",
   "metadata": {},
   "outputs": [],
   "source": []
  },
  {
   "cell_type": "markdown",
   "id": "85a68cf8",
   "metadata": {},
   "source": [
    "#### 54. How to read the following file? (★★☆)\n",
    "```\n",
    "1, 2, 3, 4, 5\n",
    "6,  ,  , 7, 8\n",
    " ,  , 9,10,11\n",
    "```"
   ]
  },
  {
   "cell_type": "code",
   "execution_count": null,
   "id": "ce68d192",
   "metadata": {},
   "outputs": [],
   "source": []
  },
  {
   "cell_type": "markdown",
   "id": "e0da5d99",
   "metadata": {},
   "source": [
    "#### 55. What is the equivalent of enumerate for numpy arrays? (★★☆)\n"
   ]
  },
  {
   "cell_type": "code",
   "execution_count": null,
   "id": "6b11dedc",
   "metadata": {},
   "outputs": [],
   "source": []
  },
  {
   "cell_type": "markdown",
   "id": "781e7e5f",
   "metadata": {},
   "source": [
    "#### 56. Generate a generic 2D Gaussian-like array (★★☆)\n"
   ]
  },
  {
   "cell_type": "code",
   "execution_count": null,
   "id": "276f5d4d",
   "metadata": {},
   "outputs": [],
   "source": []
  },
  {
   "cell_type": "markdown",
   "id": "2d4d7dd7",
   "metadata": {},
   "source": [
    "#### 57. How to randomly place p elements in a 2D array? (★★☆)\n"
   ]
  },
  {
   "cell_type": "code",
   "execution_count": null,
   "id": "c9073b04",
   "metadata": {},
   "outputs": [],
   "source": []
  },
  {
   "cell_type": "markdown",
   "id": "16b6b409",
   "metadata": {},
   "source": [
    "#### 58. Subtract the mean of each row of a matrix (★★☆)\n"
   ]
  },
  {
   "cell_type": "code",
   "execution_count": null,
   "id": "56c0929f",
   "metadata": {},
   "outputs": [],
   "source": []
  },
  {
   "cell_type": "markdown",
   "id": "127582bc",
   "metadata": {},
   "source": [
    "#### 59. How to sort an array by the nth column? (★★☆)\n"
   ]
  },
  {
   "cell_type": "code",
   "execution_count": null,
   "id": "a4b0d34d",
   "metadata": {},
   "outputs": [],
   "source": []
  },
  {
   "cell_type": "markdown",
   "id": "0d1a4965",
   "metadata": {},
   "source": [
    "#### 60. How to tell if a given 2D array has null columns? (★★☆)"
   ]
  },
  {
   "cell_type": "code",
   "execution_count": null,
   "id": "7c29425a",
   "metadata": {},
   "outputs": [],
   "source": []
  },
  {
   "cell_type": "markdown",
   "id": "b3fb4648",
   "metadata": {},
   "source": [
    "#### 61. Find the nearest value from a given value in an array (★★☆)\n"
   ]
  },
  {
   "cell_type": "code",
   "execution_count": null,
   "id": "770cb798",
   "metadata": {},
   "outputs": [],
   "source": []
  },
  {
   "cell_type": "markdown",
   "id": "e8013493",
   "metadata": {},
   "source": [
    "#### 62. Considering two arrays with shape (1,3) and (3,1), how to compute their sum using an iterator? (★★☆)\n"
   ]
  },
  {
   "cell_type": "code",
   "execution_count": null,
   "id": "8b69dcc6",
   "metadata": {},
   "outputs": [],
   "source": []
  },
  {
   "cell_type": "markdown",
   "id": "a13f14d4",
   "metadata": {},
   "source": [
    "#### 63. Create an array class that has a name attribute (★★☆)\n"
   ]
  },
  {
   "cell_type": "code",
   "execution_count": null,
   "id": "4bf782b2",
   "metadata": {},
   "outputs": [],
   "source": []
  },
  {
   "cell_type": "markdown",
   "id": "2bc99023",
   "metadata": {},
   "source": [
    "#### 64. Consider a given vector, how to add 1 to each element indexed by a second vector (be careful with repeated indices)? (★★★)\n"
   ]
  },
  {
   "cell_type": "code",
   "execution_count": null,
   "id": "633db247",
   "metadata": {},
   "outputs": [],
   "source": []
  },
  {
   "cell_type": "markdown",
   "id": "ed0777c0",
   "metadata": {},
   "source": [
    "#### 65. How to accumulate elements of a vector (X) to an array (F) based on an index list (I)? (★★★)\n"
   ]
  },
  {
   "cell_type": "code",
   "execution_count": null,
   "id": "9b703c83",
   "metadata": {},
   "outputs": [],
   "source": []
  },
  {
   "cell_type": "markdown",
   "id": "f3b5483e",
   "metadata": {},
   "source": [
    "#### 66. Considering a (w,h,3) image of (dtype=ubyte), compute the number of unique colors (★★☆)\n"
   ]
  },
  {
   "cell_type": "code",
   "execution_count": null,
   "id": "e4f9a867",
   "metadata": {},
   "outputs": [],
   "source": []
  },
  {
   "cell_type": "markdown",
   "id": "a35f4a5e",
   "metadata": {},
   "source": [
    "#### 67. Considering a four dimensions array, how to get sum over the last two axis at once? (★★★)\n"
   ]
  },
  {
   "cell_type": "code",
   "execution_count": null,
   "id": "966c2803",
   "metadata": {},
   "outputs": [],
   "source": []
  },
  {
   "cell_type": "markdown",
   "id": "c9ac4716",
   "metadata": {},
   "source": [
    "#### 68. Considering a one-dimensional vector D, how to compute means of subsets of D using a vector S of same size describing subset  indices? (★★★)\n"
   ]
  },
  {
   "cell_type": "code",
   "execution_count": null,
   "id": "ec204ba7",
   "metadata": {},
   "outputs": [],
   "source": []
  },
  {
   "cell_type": "markdown",
   "id": "dbd44b6a",
   "metadata": {},
   "source": [
    "#### 69. How to get the diagonal of a dot product? (★★★)\n"
   ]
  },
  {
   "cell_type": "code",
   "execution_count": null,
   "id": "758bb7b9",
   "metadata": {},
   "outputs": [],
   "source": []
  },
  {
   "cell_type": "markdown",
   "id": "99165b84",
   "metadata": {},
   "source": [
    "#### 70. Consider the vector [1, 2, 3, 4, 5], how to build a new vector with 3 consecutive zeros interleaved between each value? (★★★)\n"
   ]
  },
  {
   "cell_type": "code",
   "execution_count": null,
   "id": "d071849a",
   "metadata": {},
   "outputs": [],
   "source": []
  },
  {
   "cell_type": "markdown",
   "id": "b97ebb79",
   "metadata": {},
   "source": [
    "#### 71. Consider an array of dimension (5,5,3), how to mulitply it by an array with dimensions (5,5)? (★★★)\n"
   ]
  },
  {
   "cell_type": "code",
   "execution_count": null,
   "id": "dbc5eb71",
   "metadata": {},
   "outputs": [],
   "source": []
  },
  {
   "cell_type": "markdown",
   "id": "d9ab55cf",
   "metadata": {},
   "source": [
    "#### 72. How to swap two rows of an array? (★★★)\n"
   ]
  },
  {
   "cell_type": "code",
   "execution_count": null,
   "id": "517c924a",
   "metadata": {},
   "outputs": [],
   "source": []
  },
  {
   "cell_type": "markdown",
   "id": "0fc672dd",
   "metadata": {},
   "source": [
    "#### 73. Consider a set of 10 triplets describing 10 triangles (with shared vertices), find the set of unique line segments composing all the  triangles (★★★)\n"
   ]
  },
  {
   "cell_type": "code",
   "execution_count": null,
   "id": "69e8dba7",
   "metadata": {},
   "outputs": [],
   "source": []
  },
  {
   "cell_type": "markdown",
   "id": "a13324f0",
   "metadata": {},
   "source": [
    "#### 74. Given a sorted array C that corresponds to a bincount, how to produce an array A such that np.bincount(A) == C? (★★★)\n"
   ]
  },
  {
   "cell_type": "code",
   "execution_count": null,
   "id": "430b6f06",
   "metadata": {},
   "outputs": [],
   "source": []
  },
  {
   "cell_type": "markdown",
   "id": "26f2aadb",
   "metadata": {},
   "source": [
    "#### 75. How to compute averages using a sliding window over an array? (★★★)\n"
   ]
  },
  {
   "cell_type": "code",
   "execution_count": null,
   "id": "fcc3f077",
   "metadata": {},
   "outputs": [],
   "source": []
  },
  {
   "cell_type": "markdown",
   "id": "1e77e8af",
   "metadata": {},
   "source": [
    "#### 76. Consider a one-dimensional array Z, build a two-dimensional array whose first row is (Z[0],Z[1],Z[2]) and each subsequent row is  shifted by 1 (last row should be (Z[-3],Z[-2],Z[-1]) (★★★)\n"
   ]
  },
  {
   "cell_type": "code",
   "execution_count": null,
   "id": "3ec77004",
   "metadata": {},
   "outputs": [],
   "source": []
  },
  {
   "cell_type": "markdown",
   "id": "d23dd543",
   "metadata": {},
   "source": [
    "#### 77. How to negate a boolean, or to change the sign of a float inplace? (★★★)"
   ]
  },
  {
   "cell_type": "code",
   "execution_count": null,
   "id": "8da8c4b7",
   "metadata": {},
   "outputs": [],
   "source": []
  },
  {
   "cell_type": "markdown",
   "id": "4a42539d",
   "metadata": {},
   "source": [
    "#### 78. Consider 2 sets of points P0,P1 describing lines (2d) and a point p, how to compute distance from p to each line i (P0[i],P1[i])? (★★★)\n"
   ]
  },
  {
   "cell_type": "code",
   "execution_count": null,
   "id": "f422598e",
   "metadata": {},
   "outputs": [],
   "source": []
  },
  {
   "cell_type": "markdown",
   "id": "bdfdfc1b",
   "metadata": {},
   "source": [
    "#### 79. Consider 2 sets of points P0,P1 describing lines (2d) and a set of points P, how to compute distance from each point j (P[j]) to each line i (P0[i],P1[i])? (★★★)"
   ]
  },
  {
   "cell_type": "code",
   "execution_count": null,
   "id": "f0aba7eb",
   "metadata": {},
   "outputs": [],
   "source": []
  },
  {
   "cell_type": "markdown",
   "id": "c2728d6a",
   "metadata": {},
   "source": [
    "#### 80. Consider an arbitrary array, write a function that extract a subpart with a fixed shape and centered on a given element (pad with a `fill` value when necessary) (★★★)"
   ]
  },
  {
   "cell_type": "code",
   "execution_count": null,
   "id": "f455fbc1",
   "metadata": {},
   "outputs": [],
   "source": []
  },
  {
   "cell_type": "markdown",
   "id": "92e290e2",
   "metadata": {},
   "source": [
    "#### 81. Consider an array Z = [1,2,3,4,5,6,7,8,9,10,11,12,13,14], how to generate an array R = [[1,2,3,4], [2,3,4,5], [3,4,5,6], ..., [11,12,13,14]]? (★★★)"
   ]
  },
  {
   "cell_type": "code",
   "execution_count": null,
   "id": "1ee0c711",
   "metadata": {},
   "outputs": [],
   "source": []
  },
  {
   "cell_type": "markdown",
   "id": "b2288a57",
   "metadata": {},
   "source": [
    "#### 82. Compute a matrix rank (★★★)"
   ]
  },
  {
   "cell_type": "code",
   "execution_count": null,
   "id": "10c9df38",
   "metadata": {},
   "outputs": [],
   "source": []
  },
  {
   "cell_type": "markdown",
   "id": "3fc2b9c3",
   "metadata": {},
   "source": [
    "#### 83. How to find the most frequent value in an array?"
   ]
  },
  {
   "cell_type": "code",
   "execution_count": null,
   "id": "5001ba5f",
   "metadata": {},
   "outputs": [],
   "source": []
  },
  {
   "cell_type": "markdown",
   "id": "de8c838a",
   "metadata": {},
   "source": [
    "#### 84. Extract all the contiguous 3x3 blocks from a random 10x10 matrix (★★★)"
   ]
  },
  {
   "cell_type": "code",
   "execution_count": null,
   "id": "5a8ed1ad",
   "metadata": {},
   "outputs": [],
   "source": []
  },
  {
   "cell_type": "markdown",
   "id": "3938f108",
   "metadata": {},
   "source": [
    "#### 85. Create a 2D array subclass such that Z[i,j] == Z[j,i] (★★★)"
   ]
  },
  {
   "cell_type": "code",
   "execution_count": null,
   "id": "a198e9f9",
   "metadata": {},
   "outputs": [],
   "source": []
  },
  {
   "cell_type": "markdown",
   "id": "90455c43",
   "metadata": {},
   "source": [
    "#### 86. Consider a set of p matrices with shape (n,n) and a set of p vectors with shape (n,1). How to compute the sum of of the p matrix products at once? (result has shape (n,1)) (★★★)"
   ]
  },
  {
   "cell_type": "code",
   "execution_count": null,
   "id": "2e22f36d",
   "metadata": {},
   "outputs": [],
   "source": []
  },
  {
   "cell_type": "markdown",
   "id": "dfda2416",
   "metadata": {},
   "source": [
    "#### 87. Consider a 16x16 array, how to get the block-sum (block size is 4x4)? (★★★)"
   ]
  },
  {
   "cell_type": "code",
   "execution_count": null,
   "id": "a9776873",
   "metadata": {},
   "outputs": [],
   "source": []
  },
  {
   "cell_type": "markdown",
   "id": "8a8deaeb",
   "metadata": {},
   "source": [
    "#### 88. How to implement the Game of Life using numpy arrays? (★★★)"
   ]
  },
  {
   "cell_type": "code",
   "execution_count": null,
   "id": "10cbe235",
   "metadata": {},
   "outputs": [],
   "source": []
  },
  {
   "cell_type": "markdown",
   "id": "72e01c9b",
   "metadata": {},
   "source": [
    "#### 89. How to get the n largest values of an array (★★★)"
   ]
  },
  {
   "cell_type": "code",
   "execution_count": null,
   "id": "0e55b35b",
   "metadata": {},
   "outputs": [],
   "source": []
  },
  {
   "cell_type": "markdown",
   "id": "981832af",
   "metadata": {},
   "source": [
    "#### 90. Given an arbitrary number of vectors, build the cartesian product (every combinations of every item) (★★★)"
   ]
  },
  {
   "cell_type": "code",
   "execution_count": null,
   "id": "c3e8ec03",
   "metadata": {},
   "outputs": [],
   "source": []
  },
  {
   "cell_type": "markdown",
   "id": "2989fb2d",
   "metadata": {},
   "source": [
    "#### 91. How to create a record array from a regular array? (★★★)"
   ]
  },
  {
   "cell_type": "code",
   "execution_count": null,
   "id": "15572555",
   "metadata": {},
   "outputs": [],
   "source": []
  },
  {
   "cell_type": "markdown",
   "id": "f8b867e8",
   "metadata": {},
   "source": [
    "#### 92. Consider a large vector Z, compute Z to the power of 3 using 3 different methods (★★★)"
   ]
  },
  {
   "cell_type": "code",
   "execution_count": null,
   "id": "b711119e",
   "metadata": {},
   "outputs": [],
   "source": []
  },
  {
   "cell_type": "markdown",
   "id": "635bc9e2",
   "metadata": {},
   "source": [
    "#### 93. Consider two arrays A and B of shape (8,3) and (2,2). How to find rows of A that contain elements of each row of B regardless of the order of the elements in B? (★★★)"
   ]
  },
  {
   "cell_type": "code",
   "execution_count": null,
   "id": "bf857ca1",
   "metadata": {},
   "outputs": [],
   "source": []
  },
  {
   "cell_type": "markdown",
   "id": "2de2893d",
   "metadata": {},
   "source": [
    "#### 94. Considering a 10x3 matrix, extract rows with unequal values (e.g. [2,2,3]) (★★★)"
   ]
  },
  {
   "cell_type": "code",
   "execution_count": null,
   "id": "fff37324",
   "metadata": {},
   "outputs": [],
   "source": []
  },
  {
   "cell_type": "markdown",
   "id": "28819b12",
   "metadata": {},
   "source": [
    "#### 95. Convert a vector of ints into a matrix binary representation (★★★)"
   ]
  },
  {
   "cell_type": "code",
   "execution_count": null,
   "id": "243bf5df",
   "metadata": {},
   "outputs": [],
   "source": []
  },
  {
   "cell_type": "markdown",
   "id": "f1f910b1",
   "metadata": {},
   "source": [
    "#### 96. Given a two dimensional array, how to extract unique rows? (★★★)"
   ]
  },
  {
   "cell_type": "code",
   "execution_count": null,
   "id": "178d6593",
   "metadata": {},
   "outputs": [],
   "source": []
  },
  {
   "cell_type": "markdown",
   "id": "8372b513",
   "metadata": {},
   "source": [
    "#### 97. Considering 2 vectors A & B, write the einsum equivalent of inner, outer, sum, and mul function (★★★)"
   ]
  },
  {
   "cell_type": "code",
   "execution_count": null,
   "id": "de952e68",
   "metadata": {},
   "outputs": [],
   "source": []
  },
  {
   "cell_type": "markdown",
   "id": "95e3a743",
   "metadata": {},
   "source": [
    "#### 98. Considering a path described by two vectors (X,Y), how to sample it using equidistant samples (★★★)?"
   ]
  },
  {
   "cell_type": "code",
   "execution_count": null,
   "id": "65af417c",
   "metadata": {},
   "outputs": [],
   "source": []
  },
  {
   "cell_type": "markdown",
   "id": "8b7e66f1",
   "metadata": {},
   "source": [
    "#### 99. Given an integer n and a 2D array X, select from X the rows which can be interpreted as draws from a multinomial distribution with n degrees, i.e., the rows which only contain integers and which sum to n. (★★★)"
   ]
  },
  {
   "cell_type": "code",
   "execution_count": null,
   "id": "73ead92b",
   "metadata": {},
   "outputs": [],
   "source": []
  },
  {
   "cell_type": "markdown",
   "id": "30707207",
   "metadata": {},
   "source": [
    "#### 100. Compute bootstrapped 95% confidence intervals for the mean of a 1D array X (i.e., resample the elements of an array with replacement N times, compute the mean of each sample, and then compute percentiles over the means). (★★★)"
   ]
  },
  {
   "cell_type": "code",
   "execution_count": null,
   "id": "614538c8",
   "metadata": {},
   "outputs": [],
   "source": []
  }
 ],
 "metadata": {
  "kernelspec": {
   "display_name": "Python 3 (ipykernel)",
   "language": "python",
   "name": "python3"
  },
  "language_info": {
   "codemirror_mode": {
    "name": "ipython",
    "version": 3
   },
   "file_extension": ".py",
   "mimetype": "text/x-python",
   "name": "python",
   "nbconvert_exporter": "python",
   "pygments_lexer": "ipython3",
   "version": "3.10.9"
  },
  "varInspector": {
   "cols": {
    "lenName": 16,
    "lenType": 16,
    "lenVar": 40
   },
   "kernels_config": {
    "python": {
     "delete_cmd_postfix": "",
     "delete_cmd_prefix": "del ",
     "library": "var_list.py",
     "varRefreshCmd": "print(var_dic_list())"
    },
    "r": {
     "delete_cmd_postfix": ") ",
     "delete_cmd_prefix": "rm(",
     "library": "var_list.r",
     "varRefreshCmd": "cat(var_dic_list()) "
    }
   },
   "types_to_exclude": [
    "module",
    "function",
    "builtin_function_or_method",
    "instance",
    "_Feature"
   ],
   "window_display": false
  }
 },
 "nbformat": 4,
 "nbformat_minor": 5
}
