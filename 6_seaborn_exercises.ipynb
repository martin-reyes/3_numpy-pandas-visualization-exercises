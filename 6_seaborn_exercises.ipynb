{
 "cells": [
  {
   "cell_type": "markdown",
   "id": "d047ff3b",
   "metadata": {},
   "source": [
    "Use seaborn's `load_dataset` function to load the `iris` database to answer the following questions:\n",
    "1. What does the distribution of petal lengths look like?"
   ]
  },
  {
   "cell_type": "code",
   "execution_count": null,
   "id": "43e880d2",
   "metadata": {},
   "outputs": [],
   "source": []
  },
  {
   "cell_type": "code",
   "execution_count": null,
   "id": "ff87a0f3",
   "metadata": {},
   "outputs": [],
   "source": []
  },
  {
   "cell_type": "markdown",
   "id": "d111e743",
   "metadata": {},
   "source": [
    "2. Is there a relationship between petal length and petal width?"
   ]
  },
  {
   "cell_type": "code",
   "execution_count": null,
   "id": "0af30084",
   "metadata": {},
   "outputs": [],
   "source": []
  },
  {
   "cell_type": "markdown",
   "id": "aa0f2575",
   "metadata": {},
   "source": [
    "3. Would it be reasonable to predict species based on sepal width and sepal length? For this, you'll visualize two numeric columns through the lense of a categorical column."
   ]
  },
  {
   "cell_type": "code",
   "execution_count": null,
   "id": "5a5c7088",
   "metadata": {},
   "outputs": [],
   "source": []
  },
  {
   "cell_type": "markdown",
   "id": "96b59aa6",
   "metadata": {},
   "source": [
    "4. Which features would be best used to predict species?"
   ]
  },
  {
   "cell_type": "code",
   "execution_count": null,
   "id": "ede77202",
   "metadata": {},
   "outputs": [],
   "source": []
  },
  {
   "cell_type": "markdown",
   "id": "8c875202",
   "metadata": {},
   "source": [
    "1. Load the `anscombe` dataset from seaborn. Use pandas to group the data by the `dataset` column, and calculate summary statistics for each dataset. What do you notice?\n",
    "\n",
    "    - Plot the x and y values from the `anscombe` data. Each dataset should be in a separate column."
   ]
  },
  {
   "cell_type": "code",
   "execution_count": null,
   "id": "ea23969e",
   "metadata": {},
   "outputs": [],
   "source": []
  },
  {
   "cell_type": "markdown",
   "id": "12b79f67",
   "metadata": {},
   "source": [
    "2. Load the `InsectSprays` dataset from pydataset and read it's documentation. Create a boxplot that shows the effectiveness of the different insect sprays."
   ]
  },
  {
   "cell_type": "code",
   "execution_count": null,
   "id": "ce7d7c5c",
   "metadata": {},
   "outputs": [],
   "source": []
  },
  {
   "cell_type": "markdown",
   "id": "5cd5c5fa",
   "metadata": {},
   "source": [
    "3. Load the `swiss` dataset from pydataset and read it's documentation. Create visualizations to answer the following questions:"
   ]
  },
  {
   "cell_type": "code",
   "execution_count": null,
   "id": "2a30348a",
   "metadata": {},
   "outputs": [],
   "source": []
  },
  {
   "cell_type": "markdown",
   "id": "1583bec9",
   "metadata": {},
   "source": [
    "4. Create an attribute named `is_catholic` that holds a boolean value of whether or not the province is Catholic. (Choose a cutoff point for what constitutes catholic)\n",
    "    - Does whether or not a province is Catholic influence fertility?\n",
    "    - What measure correlates most strongly with fertility?\n",
    "    - Load the chipotle dataset from SQL, create a bar chart that shows the 4 most popular items and the revenue produced by each."
   ]
  },
  {
   "cell_type": "code",
   "execution_count": null,
   "id": "9391b5bf",
   "metadata": {},
   "outputs": [],
   "source": []
  },
  {
   "cell_type": "markdown",
   "id": "e5ea7649",
   "metadata": {},
   "source": [
    "5. Load the `sleepstudy` dataset from pydataset and read it's documentation. Use seaborn to create a line chart of all the individual subject's reaction times and a more prominant line showing the average change in reaction time."
   ]
  },
  {
   "cell_type": "code",
   "execution_count": null,
   "id": "9b82bb98",
   "metadata": {},
   "outputs": [],
   "source": []
  }
 ],
 "metadata": {
  "kernelspec": {
   "display_name": "Python 3 (ipykernel)",
   "language": "python",
   "name": "python3"
  },
  "language_info": {
   "codemirror_mode": {
    "name": "ipython",
    "version": 3
   },
   "file_extension": ".py",
   "mimetype": "text/x-python",
   "name": "python",
   "nbconvert_exporter": "python",
   "pygments_lexer": "ipython3",
   "version": "3.10.9"
  },
  "varInspector": {
   "cols": {
    "lenName": 16,
    "lenType": 16,
    "lenVar": 40
   },
   "kernels_config": {
    "python": {
     "delete_cmd_postfix": "",
     "delete_cmd_prefix": "del ",
     "library": "var_list.py",
     "varRefreshCmd": "print(var_dic_list())"
    },
    "r": {
     "delete_cmd_postfix": ") ",
     "delete_cmd_prefix": "rm(",
     "library": "var_list.r",
     "varRefreshCmd": "cat(var_dic_list()) "
    }
   },
   "types_to_exclude": [
    "module",
    "function",
    "builtin_function_or_method",
    "instance",
    "_Feature"
   ],
   "window_display": false
  }
 },
 "nbformat": 4,
 "nbformat_minor": 5
}
