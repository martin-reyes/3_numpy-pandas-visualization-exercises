{
 "cells": [
  {
   "cell_type": "markdown",
   "id": "dde6a383",
   "metadata": {},
   "source": [
    "Use the following code for the questions below:\n",
    "\n",
    "\n",
    "`a = np.array([4, 10, 12, 23, -2, -1, 0, 0, 0, -6, 3, -7])`\n",
    "\n",
    "1. How many negative numbers are there?\n",
    "\n",
    "2. How many positive numbers are there?\n",
    "\n",
    "3. How many even positive numbers are there?\n",
    "\n",
    "4. If you were to add 3 to each data point, how many positive numbers would there be?\n",
    "\n",
    "5. If you squared each number, what would the new mean and standard deviation be?\n",
    "\n",
    "6. A common statistical operation on a dataset is **centering**. This means to adjust the data such that the mean of the data is 0. This is done by subtracting the mean from each data point. Center the data set. See this link for more on centering.\n",
    "\n",
    "7. Calculate the z-score for each data point. Recall that the z-score is given by:\n",
    "\n",
    "$$ Z = \\frac{x − μ}{σ} $$\n",
    "\n",
    "8. Copy the setup and exercise directions from More Numpy Practice into your numpy_exercises.py and add your solutions.\n",
    "\n",
    "**Awesome Bonus** For much more practice with numpy, Go to `https://github.com/rougier/numpy-100` and clone the repo down to your laptop. To clone a repository: - Copy the SSH address of the repository - `cd ~/codeup-data-science` - Then type `git clone git@github.com:rougier/numpy-100.git` - Now do cd numpy-100 on your terminal. - Type `git remote remove origin`, so you won't accidentally try to push your work to Rougier's repo.\n",
    "\n",
    "Congratulations! You have cloned Rougier's 100 numpy exercises to your computer. Now you need to make a new, blank, repository on GitHub.\n",
    "\n",
    "- Go to `https://github.com/new` to make a new repo. Name it `numpy-100`.\n",
    "- DO NOT check any check boxes. We need a blank, empty repo.\n",
    "- Finally, follow the directions to \"push an existing repository from the command line\" so that you can push up your changes to your own account.\n",
    "- Now do work, add it, commit it, and push it!"
   ]
  },
  {
   "cell_type": "code",
   "execution_count": null,
   "id": "ba5a3749",
   "metadata": {},
   "outputs": [],
   "source": []
  }
 ],
 "metadata": {
  "kernelspec": {
   "display_name": "Python 3 (ipykernel)",
   "language": "python",
   "name": "python3"
  },
  "language_info": {
   "codemirror_mode": {
    "name": "ipython",
    "version": 3
   },
   "file_extension": ".py",
   "mimetype": "text/x-python",
   "name": "python",
   "nbconvert_exporter": "python",
   "pygments_lexer": "ipython3",
   "version": "3.9.12"
  }
 },
 "nbformat": 4,
 "nbformat_minor": 5
}
