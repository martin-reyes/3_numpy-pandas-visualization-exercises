{
 "cells": [
  {
   "cell_type": "markdown",
   "id": "e90119a5",
   "metadata": {},
   "source": [
    "1. Use matplotlib to plot the following equation:\n",
    "\n",
    "            $y = x^2 − x + 2$\n",
    "\n",
    "    You'll need to write the code that generates the x and y points.\n",
    "\n",
    "    Add an anotation for the point 0, 0, the origin.\n",
    "\n",
    "2. Create and label 4 separate charts for the following equations (choose a range for x that makes sense):\n",
    "\n",
    "- $y = \\sqrt{x}$\n",
    "- $y = x^3$\n",
    "- $y = 2^x$\n",
    "- $y = 1/(x+1)$\n",
    "\n",
    "    You can use functions from the `math` module to help implement some of the equations above.\n",
    "\n",
    "3. Combine the figures you created in the last step into one large figure with 4 subplots.\n",
    "\n",
    "4. Combine the figures you created in the last step into one figure where each of the 4 equations has a different color for the points. Be sure to include a legend and an appropriate title for the figure.\n",
    "\n",
    "5. Make a new Jupyter notebook named big_o_notation.ipynb\n",
    "\n",
    "    - Title your chart \"Big O Notation\"\n",
    "    - Label your x axis \"Elements\"\n",
    "    - Label your y axis \"Operations\"\n",
    "    - Label your curves or make a legend for the curves\n",
    "    - Use LaTex notation where possible\n",
    "\n",
    "    Curves to graph\n",
    "\n",
    "    - $y = 0n + 1$ and label the curve \"O(1)\"\n",
    "    - $y = log(n)$ and label the curve \"O(log n)\"\n",
    "    - $y = n$ and label the curve \"O(n)\"\n",
    "    - $y = n ∗ log(n)$ and label it \"O(n log n)\"\n",
    "    - $y = n^2$ and label it \"O(n^2)\"\n",
    "    - $y = 2^n$ and label it \"O(2^n)\"\n",
    "    - $y = n!$ and label it \"O(n!)\"\n",
    "    - $y = n^n$ and label it \"O(n^n)\"\n",
    "\n",
    "**Bonus:** Write the code necessary to write your name on a chart. Use box letters.\n",
    "\n",
    "**Bonus:** use curves for letters in your name that have curves in them."
   ]
  },
  {
   "cell_type": "code",
   "execution_count": null,
   "id": "bec63737",
   "metadata": {},
   "outputs": [],
   "source": []
  }
 ],
 "metadata": {
  "kernelspec": {
   "display_name": "Python 3 (ipykernel)",
   "language": "python",
   "name": "python3"
  },
  "language_info": {
   "codemirror_mode": {
    "name": "ipython",
    "version": 3
   },
   "file_extension": ".py",
   "mimetype": "text/x-python",
   "name": "python",
   "nbconvert_exporter": "python",
   "pygments_lexer": "ipython3",
   "version": "3.10.9"
  },
  "varInspector": {
   "cols": {
    "lenName": 16,
    "lenType": 16,
    "lenVar": 40
   },
   "kernels_config": {
    "python": {
     "delete_cmd_postfix": "",
     "delete_cmd_prefix": "del ",
     "library": "var_list.py",
     "varRefreshCmd": "print(var_dic_list())"
    },
    "r": {
     "delete_cmd_postfix": ") ",
     "delete_cmd_prefix": "rm(",
     "library": "var_list.r",
     "varRefreshCmd": "cat(var_dic_list()) "
    }
   },
   "types_to_exclude": [
    "module",
    "function",
    "builtin_function_or_method",
    "instance",
    "_Feature"
   ],
   "window_display": false
  }
 },
 "nbformat": 4,
 "nbformat_minor": 5
}
