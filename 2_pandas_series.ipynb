{
 "cells": [
  {
   "cell_type": "code",
   "execution_count": 32,
   "id": "ce34ca28",
   "metadata": {},
   "outputs": [],
   "source": [
    "import pandas as pd"
   ]
  },
  {
   "cell_type": "markdown",
   "id": "f1d8321b",
   "metadata": {},
   "source": [
    "### Part I\n",
    "\n",
    "Use pandas to create a Series named fruits from the following list:\n",
    "\n",
    "`[\"kiwi\", \"mango\", \"strawberry\", \"pineapple\", \"gala apple\", \"honeycrisp apple\", \"tomato\", \"watermelon\", \"honeydew\", \"kiwi\", \"kiwi\", \"kiwi\", \"mango\", \"blueberry\", \"blackberry\", \"gooseberry\", \"papaya\"]`\n",
    "\n",
    "Use Series attributes and methods to explore your fruits Series."
   ]
  },
  {
   "cell_type": "code",
   "execution_count": 6,
   "id": "cee49a89",
   "metadata": {},
   "outputs": [
    {
     "data": {
      "text/plain": [
       "0                 kiwi\n",
       "1                mango\n",
       "2           strawberry\n",
       "3            pineapple\n",
       "4           gala apple\n",
       "5     honeycrisp apple\n",
       "6               tomato\n",
       "7           watermelon\n",
       "8             honeydew\n",
       "9                 kiwi\n",
       "10                kiwi\n",
       "11                kiwi\n",
       "12               mango\n",
       "13           blueberry\n",
       "14          blackberry\n",
       "15          gooseberry\n",
       "16              papaya\n",
       "dtype: object"
      ]
     },
     "execution_count": 6,
     "metadata": {},
     "output_type": "execute_result"
    }
   ],
   "source": [
    "fruits_list = [\"kiwi\", \"mango\", \"strawberry\", \"pineapple\", \"gala apple\",\n",
    "               \"honeycrisp apple\", \"tomato\", \"watermelon\", \"honeydew\",\n",
    "               \"kiwi\", \"kiwi\", \"kiwi\", \"mango\", \"blueberry\",\n",
    "               \"blackberry\", \"gooseberry\", \"papaya\"]\n",
    "fruits = pd.Series(fruits_list)\n",
    "fruits"
   ]
  },
  {
   "cell_type": "code",
   "execution_count": 7,
   "id": "9176ecbd",
   "metadata": {
    "scrolled": true
   },
   "outputs": [
    {
     "name": "stdout",
     "output_type": "stream",
     "text": [
      "1. num_elements in fruits:\n",
      " 17 \n",
      "\n",
      "2. indices of fruits:\n",
      " RangeIndex(start=0, stop=17, step=1) \n",
      "\n",
      "3. values of fruits:\n",
      " ['kiwi' 'mango' 'strawberry' 'pineapple' 'gala apple' 'honeycrisp apple'\n",
      " 'tomato' 'watermelon' 'honeydew' 'kiwi' 'kiwi' 'kiwi' 'mango' 'blueberry'\n",
      " 'blackberry' 'gooseberry' 'papaya'] \n",
      "\n",
      "4. data type in fruits:\n",
      " object \n",
      "\n",
      "5a. first five values in fruits:\n",
      " 0          kiwi\n",
      "1         mango\n",
      "2    strawberry\n",
      "3     pineapple\n",
      "4    gala apple\n",
      "dtype: object \n",
      "\n",
      "5b. last three values in fruits:\n",
      " 14    blackberry\n",
      "15    gooseberry\n",
      "16        papaya\n",
      "dtype: object \n",
      "\n",
      "5c. data type in fruits:\n",
      " 8     honeydew\n",
      "10        kiwi\n",
      "dtype: object \n",
      "\n",
      "6. describe fruits:\n",
      " count       17\n",
      "unique      13\n",
      "top       kiwi\n",
      "freq         4\n",
      "dtype: object \n",
      "\n",
      "7. unique fruits:\n",
      " ['kiwi' 'mango' 'strawberry' 'pineapple' 'gala apple' 'honeycrisp apple'\n",
      " 'tomato' 'watermelon' 'honeydew' 'blueberry' 'blackberry' 'gooseberry'\n",
      " 'papaya'] \n",
      "\n",
      "8. unique/value counts for fruits:\n",
      " kiwi                4\n",
      "mango               2\n",
      "strawberry          1\n",
      "pineapple           1\n",
      "gala apple          1\n",
      "honeycrisp apple    1\n",
      "tomato              1\n",
      "watermelon          1\n",
      "honeydew            1\n",
      "blueberry           1\n",
      "blackberry          1\n",
      "gooseberry          1\n",
      "papaya              1\n",
      "dtype: int64 \n",
      "\n",
      "9. most frequent fruit:\n",
      " kiwi    4\n",
      "dtype: int64 \n",
      "\n",
      "10. least frequent fruits:\n",
      " kiwi                4\n",
      "mango               2\n",
      "strawberry          1\n",
      "pineapple           1\n",
      "gala apple          1\n",
      "honeycrisp apple    1\n",
      "tomato              1\n",
      "watermelon          1\n",
      "honeydew            1\n",
      "blueberry           1\n",
      "blackberry          1\n",
      "gooseberry          1\n",
      "papaya              1\n",
      "dtype: int64 \n",
      "\n"
     ]
    }
   ],
   "source": [
    "# 1. Determine the number of elements in fruits.\n",
    "print('1. num_elements in fruits:\\n', fruits.size, '\\n')\n",
    "\n",
    "# 2. Output only the index from fruits.\n",
    "print('2. indices of fruits:\\n', fruits.index, '\\n')\n",
    "\n",
    "# 3. Output only the values from fruits.\n",
    "print('3. values of fruits:\\n', fruits.values, '\\n')\n",
    "\n",
    "# 4. Confirm the data type of the values in fruits.\n",
    "print('4. data type in fruits:\\n', fruits.dtype, '\\n')\n",
    "\n",
    "# 5. Output only the first five values from fruits.\n",
    "#    Output the last three values. Output two random values from fruits.\n",
    "print('5a. first five values in fruits:\\n', fruits.head(), '\\n')\n",
    "print('5b. last three values in fruits:\\n', fruits.tail(3), '\\n')\n",
    "print('5c. data type in fruits:\\n', fruits.sample(2), '\\n')\n",
    "\n",
    "# 6. Run the .describe() on fruits to see what information\n",
    "#    it returns when called on a Series with string values.\n",
    "print('6. describe fruits:\\n', fruits.describe(), '\\n')\n",
    "\n",
    "# 7. Run the code necessary to produce only the unique string values from fruits.\n",
    "print('7. unique fruits:\\n', fruits.unique(), '\\n') # returns np array\n",
    "\n",
    "# 8. Determine how many times each unique string value occurs in fruits.\n",
    "print('8. unique/value counts for fruits:\\n',\n",
    "                              fruits.value_counts(), '\\n') # returns np array\n",
    "\n",
    "# 9. Determine the string value that occurs most frequently in fruits.\n",
    "print('9. most frequent fruit:\\n',\n",
    "                              fruits.value_counts().head(1), '\\n') # returns np array\n",
    "\n",
    "# 10. Determine the string value that occurs least frequently in fruits.\n",
    "print('10. least frequent fruits:\\n',\n",
    "                              fruits.value_counts(), '\\n') # returns np array\n"
   ]
  },
  {
   "cell_type": "markdown",
   "id": "0ccfcec4",
   "metadata": {},
   "source": [
    "### Part II\n",
    "\n",
    "Explore more attributes and methods while you continue to work with the fruits Series."
   ]
  },
  {
   "cell_type": "code",
   "execution_count": 5,
   "id": "225eb50b",
   "metadata": {},
   "outputs": [
    {
     "data": {
      "text/plain": [
       "0                 Kiwi\n",
       "1                Mango\n",
       "2           Strawberry\n",
       "3            Pineapple\n",
       "4           Gala apple\n",
       "5     Honeycrisp apple\n",
       "6               Tomato\n",
       "7           Watermelon\n",
       "8             Honeydew\n",
       "9                 Kiwi\n",
       "10                Kiwi\n",
       "11                Kiwi\n",
       "12               Mango\n",
       "13           Blueberry\n",
       "14          Blackberry\n",
       "15          Gooseberry\n",
       "16              Papaya\n",
       "dtype: object"
      ]
     },
     "execution_count": 5,
     "metadata": {},
     "output_type": "execute_result"
    }
   ],
   "source": [
    "# 1. Capitalize all the string values in fruits.\n",
    "fruits.str.capitalize()"
   ]
  },
  {
   "cell_type": "code",
   "execution_count": 6,
   "id": "71332d2f",
   "metadata": {},
   "outputs": [
    {
     "data": {
      "text/plain": [
       "0     0\n",
       "1     1\n",
       "2     1\n",
       "3     1\n",
       "4     3\n",
       "5     1\n",
       "6     1\n",
       "7     1\n",
       "8     0\n",
       "9     0\n",
       "10    0\n",
       "11    0\n",
       "12    1\n",
       "13    0\n",
       "14    1\n",
       "15    0\n",
       "16    3\n",
       "dtype: int64"
      ]
     },
     "execution_count": 6,
     "metadata": {},
     "output_type": "execute_result"
    }
   ],
   "source": [
    "# 2. Count the letter \"a\" in all the string values (use string vectorization).\n",
    "fruits.str.count('a')"
   ]
  },
  {
   "cell_type": "code",
   "execution_count": 29,
   "id": "fc56b05c",
   "metadata": {},
   "outputs": [
    {
     "data": {
      "text/plain": [
       "0     2\n",
       "1     2\n",
       "2     2\n",
       "3     4\n",
       "4     4\n",
       "5     5\n",
       "6     3\n",
       "7     4\n",
       "8     3\n",
       "9     2\n",
       "10    2\n",
       "11    2\n",
       "12    2\n",
       "13    3\n",
       "14    2\n",
       "15    4\n",
       "16    3\n",
       "dtype: int64"
      ]
     },
     "execution_count": 29,
     "metadata": {},
     "output_type": "execute_result"
    }
   ],
   "source": [
    "# import re\n",
    "# 3. Output the number of vowels in each and every string value.\n",
    "fruits.str.count('[aeiouAEIOU]')"
   ]
  },
  {
   "cell_type": "code",
   "execution_count": 16,
   "id": "2a7d73bb",
   "metadata": {},
   "outputs": [],
   "source": [
    "# 4. Write the code to get the longest string value from fruits.\n",
    "max_letters = fruits.apply(len).max()"
   ]
  },
  {
   "cell_type": "code",
   "execution_count": 19,
   "id": "6aa24dcc",
   "metadata": {},
   "outputs": [
    {
     "data": {
      "text/plain": [
       "0      4\n",
       "1      5\n",
       "2     10\n",
       "3      9\n",
       "4     10\n",
       "5     16\n",
       "6      6\n",
       "7     10\n",
       "8      8\n",
       "9      4\n",
       "10     4\n",
       "11     4\n",
       "12     5\n",
       "13     9\n",
       "14    10\n",
       "15    10\n",
       "16     6\n",
       "dtype: int64"
      ]
     },
     "execution_count": 19,
     "metadata": {},
     "output_type": "execute_result"
    }
   ],
   "source": [
    "fruits.apply(len)"
   ]
  },
  {
   "cell_type": "code",
   "execution_count": 20,
   "id": "e73da41f",
   "metadata": {},
   "outputs": [
    {
     "data": {
      "text/plain": [
       "16"
      ]
     },
     "execution_count": 20,
     "metadata": {},
     "output_type": "execute_result"
    }
   ],
   "source": [
    "fruits.apply(len).max()"
   ]
  },
  {
   "cell_type": "code",
   "execution_count": 18,
   "id": "4351080d",
   "metadata": {},
   "outputs": [
    {
     "data": {
      "text/plain": [
       "0     False\n",
       "1     False\n",
       "2     False\n",
       "3     False\n",
       "4     False\n",
       "5      True\n",
       "6     False\n",
       "7     False\n",
       "8     False\n",
       "9     False\n",
       "10    False\n",
       "11    False\n",
       "12    False\n",
       "13    False\n",
       "14    False\n",
       "15    False\n",
       "16    False\n",
       "dtype: bool"
      ]
     },
     "execution_count": 18,
     "metadata": {},
     "output_type": "execute_result"
    }
   ],
   "source": [
    "fruits.apply(len) == max_letters"
   ]
  },
  {
   "cell_type": "code",
   "execution_count": 17,
   "id": "f213db02",
   "metadata": {},
   "outputs": [
    {
     "data": {
      "text/plain": [
       "5    honeycrisp apple\n",
       "dtype: object"
      ]
     },
     "execution_count": 17,
     "metadata": {},
     "output_type": "execute_result"
    }
   ],
   "source": [
    "fruits[ fruits.apply(len) == max_letters ]"
   ]
  },
  {
   "cell_type": "code",
   "execution_count": 9,
   "id": "a28a222a",
   "metadata": {},
   "outputs": [
    {
     "data": {
      "text/plain": [
       "1                mango\n",
       "2           strawberry\n",
       "3            pineapple\n",
       "4           gala apple\n",
       "5     honeycrisp apple\n",
       "6               tomato\n",
       "7           watermelon\n",
       "8             honeydew\n",
       "12               mango\n",
       "13           blueberry\n",
       "14          blackberry\n",
       "15          gooseberry\n",
       "16              papaya\n",
       "dtype: object"
      ]
     },
     "execution_count": 9,
     "metadata": {},
     "output_type": "execute_result"
    }
   ],
   "source": [
    "# 5. Write the code to get the string values with 5 or more letters in the name.\n",
    "fruits_str_len = fruits.apply(len)\n",
    "fruits[fruits_str_len >= 5]"
   ]
  },
  {
   "cell_type": "code",
   "execution_count": 9,
   "id": "d3581bb5",
   "metadata": {},
   "outputs": [
    {
     "data": {
      "text/plain": [
       "6         tomato\n",
       "15    gooseberry\n",
       "dtype: object"
      ]
     },
     "execution_count": 9,
     "metadata": {},
     "output_type": "execute_result"
    }
   ],
   "source": [
    "# 6. Find the fruit(s) containing the letter \"o\" two or more times.\n",
    "contains_o_series = fruits.str.count('o') >= 2\n",
    "fruits[contains_o_series]"
   ]
  },
  {
   "cell_type": "code",
   "execution_count": 11,
   "id": "62eb251c",
   "metadata": {},
   "outputs": [
    {
     "data": {
      "text/plain": [
       "2     strawberry\n",
       "13     blueberry\n",
       "14    blackberry\n",
       "15    gooseberry\n",
       "dtype: object"
      ]
     },
     "execution_count": 11,
     "metadata": {},
     "output_type": "execute_result"
    }
   ],
   "source": [
    "# 7. Write the code to get only the string values containing the substring \"berry\".\n",
    "fruits_w_berry = fruits.str.find('berry') >= 0\n",
    "fruits[fruits_w_berry]"
   ]
  },
  {
   "cell_type": "code",
   "execution_count": 12,
   "id": "659df665",
   "metadata": {},
   "outputs": [
    {
     "data": {
      "text/plain": [
       "3           pineapple\n",
       "4          gala apple\n",
       "5    honeycrisp apple\n",
       "dtype: object"
      ]
     },
     "execution_count": 12,
     "metadata": {},
     "output_type": "execute_result"
    }
   ],
   "source": [
    "# 8. Write the code to get only the string values containing the substring \"apple\".\n",
    "fruits_w_apple = fruits.str.find('apple') >= 0\n",
    "fruits[fruits_w_apple]"
   ]
  },
  {
   "cell_type": "code",
   "execution_count": 30,
   "id": "70be22bb",
   "metadata": {},
   "outputs": [
    {
     "data": {
      "text/plain": [
       "5    5\n",
       "dtype: int64"
      ]
     },
     "execution_count": 30,
     "metadata": {},
     "output_type": "execute_result"
    }
   ],
   "source": [
    "# 9. Which string value contains the most vowels?\n",
    "fruits.str.count('[aeiouAEIOU]').nlargest(n=1, keep='all')"
   ]
  },
  {
   "cell_type": "markdown",
   "id": "1c73b050",
   "metadata": {},
   "source": [
    "### Exercises Part III\n",
    "\n",
    "1. Use pandas to create a Series named letters from the following string. The easiest way to make this string into a Pandas series is to use list to convert each individual letter into a single string on a basic Python list.\n",
    "\n",
    "`'hnvidduckkqxwymbimkccexbkmqygkxoyndmcxnwqarhyffsjpsrabtjzsypmzadfavyrnndndvswreauxovncxtwzpwejilzjrmmbbgbyxvjtewqthafnbkqplarokkyydtubbmnexoypulzwfhqvckdpqtpoppzqrmcvhhpwgjwupgzhiofohawytlsiyecuproguy'`"
   ]
  },
  {
   "cell_type": "code",
   "execution_count": 25,
   "id": "d37890a6",
   "metadata": {},
   "outputs": [
    {
     "data": {
      "text/plain": [
       "0      h\n",
       "1      n\n",
       "2      v\n",
       "3      i\n",
       "4      d\n",
       "      ..\n",
       "195    r\n",
       "196    o\n",
       "197    g\n",
       "198    u\n",
       "199    y\n",
       "Length: 200, dtype: object"
      ]
     },
     "execution_count": 25,
     "metadata": {},
     "output_type": "execute_result"
    }
   ],
   "source": [
    "letters_string = 'hnvidduckkqxwymbimkccexbkmqygkxoyndmcxnwqarhyffsjpsrabtjzsypmzadfavyrnndndvswreauxovncxtwzpwejilzjrmmbbgbyxvjtewqthafnbkqplarokkyydtubbmnexoypulzwfhqvckdpqtpoppzqrmcvhhpwgjwupgzhiofohawytlsiyecuproguy'\n",
    "letters_list = list(letters_string)\n",
    "letters = pd.Series(letters_list)\n",
    "letters"
   ]
  },
  {
   "cell_type": "code",
   "execution_count": 48,
   "id": "6c0cb1de",
   "metadata": {},
   "outputs": [
    {
     "data": {
      "text/plain": [
       "y    13\n",
       "dtype: int64"
      ]
     },
     "execution_count": 48,
     "metadata": {},
     "output_type": "execute_result"
    }
   ],
   "source": [
    "# 1. Which letter occurs the most frequently in the letters Series?\n",
    "letters.value_counts().head(1)"
   ]
  },
  {
   "cell_type": "code",
   "execution_count": 17,
   "id": "8f9f1958",
   "metadata": {},
   "outputs": [
    {
     "data": {
      "text/plain": [
       "l    4\n",
       "dtype: int64"
      ]
     },
     "execution_count": 17,
     "metadata": {},
     "output_type": "execute_result"
    }
   ],
   "source": [
    "# 2. Which letter occurs the Least frequently?\n",
    "letters.value_counts(ascending = True).head(1)"
   ]
  },
  {
   "cell_type": "code",
   "execution_count": 18,
   "id": "65b59d90",
   "metadata": {},
   "outputs": [
    {
     "data": {
      "text/plain": [
       "34"
      ]
     },
     "execution_count": 18,
     "metadata": {},
     "output_type": "execute_result"
    }
   ],
   "source": [
    "# 3. How many vowels are in the Series?\n",
    "vowels_s = letters[letters.isin(list('aeiou'))]\n",
    "vowels_s.count()"
   ]
  },
  {
   "cell_type": "code",
   "execution_count": 19,
   "id": "20c26dd7",
   "metadata": {},
   "outputs": [
    {
     "data": {
      "text/plain": [
       "166"
      ]
     },
     "execution_count": 19,
     "metadata": {},
     "output_type": "execute_result"
    }
   ],
   "source": [
    "# 4. How many consonants are in the Series?\n",
    "consonants_s = letters[~( letters.isin( list('aeiou') ) )]\n",
    "consonants_s.count()"
   ]
  },
  {
   "cell_type": "code",
   "execution_count": 27,
   "id": "9ab05115",
   "metadata": {},
   "outputs": [
    {
     "data": {
      "text/plain": [
       "0      H\n",
       "1      N\n",
       "2      V\n",
       "3      I\n",
       "4      D\n",
       "      ..\n",
       "195    R\n",
       "196    O\n",
       "197    G\n",
       "198    U\n",
       "199    Y\n",
       "Length: 200, dtype: object"
      ]
     },
     "execution_count": 27,
     "metadata": {},
     "output_type": "execute_result"
    }
   ],
   "source": [
    "# 5. Create a Series that has all of the same letters but uppercased.\n",
    "letters.str.upper()"
   ]
  },
  {
   "cell_type": "code",
   "execution_count": 21,
   "id": "41f69bbb",
   "metadata": {},
   "outputs": [
    {
     "data": {
      "text/plain": [
       "<Axes: title={'center': 'Letter Frequencies'}, xlabel='letter', ylabel=\"freq's\">"
      ]
     },
     "execution_count": 21,
     "metadata": {},
     "output_type": "execute_result"
    },
    {
     "data": {
      "image/png": "[encoded data removed]",
      "text/plain": [
       "<Figure size 640x480 with 1 Axes>"
      ]
     },
     "metadata": {},
     "output_type": "display_data"
    }
   ],
   "source": [
    "# 6. Create a bar plot of the frequencies of the 6 most commonly occuring letters.\n",
    "six_freq_lettes = letters.value_counts().head(6)\n",
    "six_freq_lettes.plot.bar(color='blue',\n",
    "                         edgecolor='black',\n",
    "                         rot = 0,\n",
    "                         xlabel = 'letter',\n",
    "                         ylabel = 'freq\\'s',\n",
    "                         title = 'Letter Frequencies')"
   ]
  },
  {
   "cell_type": "markdown",
   "id": "831f3ae9",
   "metadata": {},
   "source": [
    "2. Use pandas to create a Series named numbers from the following list:\n",
    "\n",
    "`['$796,459.41', '$278.60', '$482,571.67', '$4,503,915.98', '$2,121,418.3', '$1,260,813.3', '$87,231.01', '$1,509,175.45', '$4,138,548.00', '$2,848,913.80', '$594,715.39', '$4,789,988.17', '$4,513,644.5', '$3,191,059.97', '$1,758,712.24', '$4,338,283.54', '$4,738,303.38', '$2,791,759.67', '$769,681.94', '$452,650.23']`\n",
    "\n",
    "\n"
   ]
  },
  {
   "cell_type": "code",
   "execution_count": 33,
   "id": "6d04be12",
   "metadata": {},
   "outputs": [
    {
     "data": {
      "text/plain": [
       "0       $796,459.41\n",
       "1           $278.60\n",
       "2       $482,571.67\n",
       "3     $4,503,915.98\n",
       "4      $2,121,418.3\n",
       "5      $1,260,813.3\n",
       "6        $87,231.01\n",
       "7     $1,509,175.45\n",
       "8     $4,138,548.00\n",
       "9     $2,848,913.80\n",
       "10      $594,715.39\n",
       "11    $4,789,988.17\n",
       "12     $4,513,644.5\n",
       "13    $3,191,059.97\n",
       "14    $1,758,712.24\n",
       "15    $4,338,283.54\n",
       "16    $4,738,303.38\n",
       "17    $2,791,759.67\n",
       "18      $769,681.94\n",
       "19      $452,650.23\n",
       "dtype: object"
      ]
     },
     "execution_count": 33,
     "metadata": {},
     "output_type": "execute_result"
    }
   ],
   "source": [
    "numbers_list = ['$796,459.41', '$278.60', '$482,571.67', '$4,503,915.98', \n",
    "                '$2,121,418.3', '$1,260,813.3', '$87,231.01', '$1,509,175.45', \n",
    "                '$4,138,548.00', '$2,848,913.80', '$594,715.39', '$4,789,988.17', \n",
    "                '$4,513,644.5', '$3,191,059.97', '$1,758,712.24', '$4,338,283.54',\n",
    "                '$4,738,303.38', '$2,791,759.67', '$769,681.94', '$452,650.23']\n",
    "numbers = pd.Series(numbers_list)\n",
    "numbers"
   ]
  },
  {
   "cell_type": "code",
   "execution_count": 34,
   "id": "d4cb3294",
   "metadata": {},
   "outputs": [
    {
     "data": {
      "text/plain": [
       "dtype('O')"
      ]
     },
     "execution_count": 34,
     "metadata": {},
     "output_type": "execute_result"
    }
   ],
   "source": [
    "# 1. What is the data type of the numbers Series?\n",
    "numbers.dtype # object"
   ]
  },
  {
   "cell_type": "code",
   "execution_count": 35,
   "id": "5b737f36",
   "metadata": {},
   "outputs": [
    {
     "data": {
      "text/plain": [
       "20"
      ]
     },
     "execution_count": 35,
     "metadata": {},
     "output_type": "execute_result"
    }
   ],
   "source": [
    "# 2. How many elements are in the number Series?\n",
    "numbers.count()"
   ]
  },
  {
   "cell_type": "code",
   "execution_count": 36,
   "id": "df11f669",
   "metadata": {},
   "outputs": [
    {
     "data": {
      "text/plain": [
       "0      796459.41\n",
       "1         278.60\n",
       "2      482571.67\n",
       "3     4503915.98\n",
       "4     2121418.30\n",
       "5     1260813.30\n",
       "6       87231.01\n",
       "7     1509175.45\n",
       "8     4138548.00\n",
       "9     2848913.80\n",
       "10     594715.39\n",
       "11    4789988.17\n",
       "12    4513644.50\n",
       "13    3191059.97\n",
       "14    1758712.24\n",
       "15    4338283.54\n",
       "16    4738303.38\n",
       "17    2791759.67\n",
       "18     769681.94\n",
       "19     452650.23\n",
       "dtype: float64"
      ]
     },
     "execution_count": 36,
     "metadata": {},
     "output_type": "execute_result"
    }
   ],
   "source": [
    "# 3. Perform the necessary manipulations by accessing Series attributes\n",
    "#     and methods to convert the numbers Series to a numeric data type.\n",
    "str_to_flt = lambda amount: float( ''.join(amount[1:].split(',')) )\n",
    "# function removes '$', splits on commas, joins splits, then casts to float\n",
    "                                  \n",
    "numbers_float = numbers.apply(str_to_flt)\n",
    "numbers_float"
   ]
  },
  {
   "cell_type": "code",
   "execution_count": 37,
   "id": "16a3dbce",
   "metadata": {},
   "outputs": [
    {
     "name": "stdout",
     "output_type": "stream",
     "text": [
      "4789988.17\n"
     ]
    }
   ],
   "source": [
    "print(numbers_float.sort_values(ascending = False).iloc[0])"
   ]
  },
  {
   "cell_type": "code",
   "execution_count": 38,
   "id": "84ca6fe7",
   "metadata": {},
   "outputs": [
    {
     "name": "stdout",
     "output_type": "stream",
     "text": [
      "True\n"
     ]
    },
    {
     "data": {
      "text/plain": [
       "4789988.17"
      ]
     },
     "execution_count": 38,
     "metadata": {},
     "output_type": "execute_result"
    }
   ],
   "source": [
    "# 4. Run the code to discover the maximum value from the Series.\n",
    "print(numbers_float.max() == numbers_float.sort_values(ascending = False).iloc[0])\n",
    "numbers_float.max()"
   ]
  },
  {
   "cell_type": "code",
   "execution_count": 39,
   "id": "0e6b13e4",
   "metadata": {},
   "outputs": [
    {
     "name": "stdout",
     "output_type": "stream",
     "text": [
      "True\n"
     ]
    },
    {
     "data": {
      "text/plain": [
       "278.6"
      ]
     },
     "execution_count": 39,
     "metadata": {},
     "output_type": "execute_result"
    }
   ],
   "source": [
    "# 5. Run the code to discover the minimum value from the Series.\n",
    "print(numbers_float.min() == numbers_float.sort_values().iloc[0])\n",
    "numbers_float.min()"
   ]
  },
  {
   "cell_type": "code",
   "execution_count": 40,
   "id": "da35ae82",
   "metadata": {},
   "outputs": [
    {
     "data": {
      "text/plain": [
       "4789709.57"
      ]
     },
     "execution_count": 40,
     "metadata": {},
     "output_type": "execute_result"
    }
   ],
   "source": [
    "# 6. What is the range of the values in the Series?\n",
    "numbers_float.max() - numbers_float.min() "
   ]
  },
  {
   "cell_type": "code",
   "execution_count": 45,
   "id": "af39e735",
   "metadata": {},
   "outputs": [
    {
     "name": "stdout",
     "output_type": "stream",
     "text": [
      "(-4511.11, 1197705.993]       7\n",
      "(3592560.778, 4789988.17]     6\n",
      "(1197705.993, 2395133.385]    4\n",
      "(2395133.385, 3592560.778]    3\n",
      "dtype: int64 \n",
      "\n"
     ]
    },
    {
     "data": {
      "text/plain": [
       "(-4511.111, 1197705.993]      7\n",
       "(3592560.778, 4789988.17]     6\n",
       "(1197705.993, 2395133.385]    4\n",
       "(2395133.385, 3592560.778]    3\n",
       "dtype: int64"
      ]
     },
     "execution_count": 45,
     "metadata": {},
     "output_type": "execute_result"
    }
   ],
   "source": [
    "# 7. Bin the data into 4 equally sized intervals or bins \n",
    "#     and output how many values fall into each bin.\n",
    "numbers_binned = pd.cut(numbers_float, 4).value_counts()\n",
    "print(numbers_binned, '\\n')\n",
    "# or\n",
    "numbers_float.value_counts(bins = 4)"
   ]
  },
  {
   "cell_type": "code",
   "execution_count": 42,
   "id": "226daea6",
   "metadata": {},
   "outputs": [
    {
     "data": {
      "text/plain": [
       "<Axes: title={'center': 'Bin Counts'}, xlabel='letter', ylabel='count'>"
      ]
     },
     "execution_count": 42,
     "metadata": {},
     "output_type": "execute_result"
    },
    {
     "data": {
      "image/png": "[encoded data removed]",
      "text/plain": [
       "<Figure size 640x480 with 1 Axes>"
      ]
     },
     "metadata": {},
     "output_type": "display_data"
    }
   ],
   "source": [
    "# 8. Plot the binned data in a meaningful way. Be sure to include a title and axis labels.\n",
    "numbers_binned.plot.bar(color='blue',\n",
    "                         edgecolor='black',\n",
    "                         rot = 30,\n",
    "                         xlabel = 'letter',\n",
    "                         ylabel = 'count',\n",
    "                         title = 'Bin Counts')"
   ]
  },
  {
   "cell_type": "markdown",
   "id": "ab2d79b3",
   "metadata": {},
   "source": [
    "Use pandas to create a Series named exam_scores from the following list:"
   ]
  },
  {
   "cell_type": "code",
   "execution_count": 32,
   "id": "823a7d91",
   "metadata": {},
   "outputs": [
    {
     "data": {
      "text/plain": [
       "0     60\n",
       "1     86\n",
       "2     75\n",
       "3     62\n",
       "4     93\n",
       "5     71\n",
       "6     60\n",
       "7     83\n",
       "8     95\n",
       "9     78\n",
       "10    65\n",
       "11    72\n",
       "12    69\n",
       "13    81\n",
       "14    96\n",
       "15    80\n",
       "16    85\n",
       "17    92\n",
       "18    82\n",
       "19    78\n",
       "dtype: int64"
      ]
     },
     "execution_count": 32,
     "metadata": {},
     "output_type": "execute_result"
    }
   ],
   "source": [
    "scores_list = [60, 86, 75, 62, 93, 71, 60, 83, 95, 78,\n",
    "               65, 72, 69, 81, 96, 80, 85, 92, 82, 78]\n",
    "exam_scores = pd.Series(scores_list)\n",
    "exam_scores"
   ]
  },
  {
   "cell_type": "code",
   "execution_count": 33,
   "id": "0d9ea1cf",
   "metadata": {},
   "outputs": [
    {
     "data": {
      "text/plain": [
       "20"
      ]
     },
     "execution_count": 33,
     "metadata": {},
     "output_type": "execute_result"
    }
   ],
   "source": [
    "# 1. How many elements are in the exam_scores Series?\n",
    "exam_scores.count()"
   ]
  },
  {
   "cell_type": "code",
   "execution_count": 34,
   "id": "b62c5934",
   "metadata": {},
   "outputs": [
    {
     "data": {
      "text/plain": [
       "count    20.000000\n",
       "mean     78.150000\n",
       "std      11.352139\n",
       "min      60.000000\n",
       "25%      70.500000\n",
       "50%      79.000000\n",
       "75%      85.250000\n",
       "max      96.000000\n",
       "dtype: float64"
      ]
     },
     "execution_count": 34,
     "metadata": {},
     "output_type": "execute_result"
    }
   ],
   "source": [
    "# 2. Run the code to discover the minimum, the maximum, the mean,\n",
    "#     and the median scores for the exam_scores Series.\n",
    "exam_scores.describe()"
   ]
  },
  {
   "cell_type": "code",
   "execution_count": 35,
   "id": "83bf6241",
   "metadata": {},
   "outputs": [
    {
     "data": {
      "text/plain": [
       "<Axes: title={'center': 'exam scores'}, ylabel='Frequency'>"
      ]
     },
     "execution_count": 35,
     "metadata": {},
     "output_type": "execute_result"
    },
    {
     "data": {
      "image/png": "[encoded data removed]",
      "text/plain": [
       "<Figure size 640x480 with 1 Axes>"
      ]
     },
     "metadata": {},
     "output_type": "display_data"
    }
   ],
   "source": [
    "# 3. Plot the Series in a meaningful way and make sure your chart\n",
    "#     has a title and axis labels.\n",
    "exam_scores.plot.hist(title = 'exam scores',\n",
    "                      edgecolor='black',\n",
    "                     )"
   ]
  },
  {
   "cell_type": "code",
   "execution_count": 36,
   "id": "29a1e793",
   "metadata": {
    "scrolled": true
   },
   "outputs": [
    {
     "data": {
      "text/plain": [
       "0      64\n",
       "1      90\n",
       "2      79\n",
       "3      66\n",
       "4      97\n",
       "5      75\n",
       "6      64\n",
       "7      87\n",
       "8      99\n",
       "9      82\n",
       "10     69\n",
       "11     76\n",
       "12     73\n",
       "13     85\n",
       "14    100\n",
       "15     84\n",
       "16     89\n",
       "17     96\n",
       "18     86\n",
       "19     82\n",
       "dtype: int64"
      ]
     },
     "execution_count": 36,
     "metadata": {},
     "output_type": "execute_result"
    }
   ],
   "source": [
    "# 4. Write the code necessary to implement a curve for your exam_grades\n",
    "#         Series and save this as curved_grades. Add the necessary points\n",
    "#         to the highest grade to make it 100, and add the same number of\n",
    "#         points to every other score in the Series as well.\n",
    "\n",
    "curved_grades = exam_scores + ( 100 - exam_scores.max() )\n",
    "curved_grades"
   ]
  },
  {
   "cell_type": "code",
   "execution_count": 37,
   "id": "07279b7d",
   "metadata": {},
   "outputs": [
    {
     "data": {
      "text/plain": [
       "0     F\n",
       "1     A\n",
       "2     C\n",
       "3     F\n",
       "4     A\n",
       "5     C\n",
       "6     F\n",
       "7     B\n",
       "8     A\n",
       "9     B\n",
       "10    F\n",
       "11    C\n",
       "12    D\n",
       "13    B\n",
       "14    A\n",
       "15    B\n",
       "16    B\n",
       "17    A\n",
       "18    B\n",
       "19    B\n",
       "dtype: object"
      ]
     },
     "execution_count": 37,
     "metadata": {},
     "output_type": "execute_result"
    }
   ],
   "source": [
    "# 5. Use a method to convert each of the numeric values in the curved_grades\n",
    "#         Series into a categorical value of letter grades. For example, 86 should\n",
    "#         be a 'B' and 95 should be an 'A'. Save this as a Series named letter_grades.\n",
    "def num_to_letter(num):\n",
    "    if num >= 90:\n",
    "        return 'A'\n",
    "    elif num >= 80:\n",
    "        return 'B'\n",
    "    elif num >= 75:\n",
    "        return 'C'\n",
    "    elif num >= 70:\n",
    "        return 'D'\n",
    "    else:\n",
    "        return 'F'\n",
    "\n",
    "letter_grades = curved_grades.apply(num_to_letter)\n",
    "letter_grades"
   ]
  },
  {
   "cell_type": "code",
   "execution_count": 38,
   "id": "d44c51ac",
   "metadata": {},
   "outputs": [
    {
     "data": {
      "text/plain": [
       "<Axes: title={'center': 'Exam Grades'}, xlabel='Grade', ylabel='Students'>"
      ]
     },
     "execution_count": 38,
     "metadata": {},
     "output_type": "execute_result"
    },
    {
     "data": {
      "image/png": "[encoded data removed]",
      "text/plain": [
       "<Figure size 640x480 with 1 Axes>"
      ]
     },
     "metadata": {},
     "output_type": "display_data"
    }
   ],
   "source": [
    "# 6. Plot your new categorical letter_grades Series in a meaninful way\n",
    "#         and include a title and axis labels.\n",
    "\n",
    "letter_grades.value_counts().sort_index().plot.bar(color='blue',\n",
    "                                                     edgecolor='black',\n",
    "                                                     rot = 0,\n",
    "                                                     xlabel = 'Grade',\n",
    "                                                     ylabel = 'Students',\n",
    "                                                     title = 'Exam Grades')"
   ]
  },
  {
   "cell_type": "markdown",
   "id": "7f83715e",
   "metadata": {},
   "source": [
    "More Practice\n",
    "\n",
    "Revisit the exercises from https://gist.github.com/ryanorsinger/f7d7c1dd6a328730c04f3dc5c5c69f3a.\n",
    "\n",
    "After you complete each set of Series exercises, use any extra time you have to pursue the challenge below. You can work on these in the same notebook or file as the Series exercises or create a new practice notebook you can work in a little every day to keep your python and pandas skills sharp by trying to solve problems in multiple ways. These are not a part of the Series exercises grade, so don't worry if it takes you days or weeks to meet the challenge.\n",
    "\n",
    "**Challenge yourself to be able to...**\n",
    "\n",
    "- solve each using vanilla python.\n",
    "\n",
    "- solve each using list comprehensions.\n",
    "\n",
    "- solve each by using a pandas Series for the data structure instead of lists and using vectorized operations instead of loops and list comprehensions."
   ]
  },
  {
   "cell_type": "code",
   "execution_count": null,
   "id": "23aa0d4f",
   "metadata": {},
   "outputs": [],
   "source": []
  }
 ],
 "metadata": {
  "kernelspec": {
   "display_name": "Python 3 (ipykernel)",
   "language": "python",
   "name": "python3"
  },
  "language_info": {
   "codemirror_mode": {
    "name": "ipython",
    "version": 3
   },
   "file_extension": ".py",
   "mimetype": "text/x-python",
   "name": "python",
   "nbconvert_exporter": "python",
   "pygments_lexer": "ipython3",
   "version": "3.10.9"
  },
  "varInspector": {
   "cols": {
    "lenName": 16,
    "lenType": 16,
    "lenVar": 40
   },
   "kernels_config": {
    "python": {
     "delete_cmd_postfix": "",
     "delete_cmd_prefix": "del ",
     "library": "var_list.py",
     "varRefreshCmd": "print(var_dic_list())"
    },
    "r": {
     "delete_cmd_postfix": ") ",
     "delete_cmd_prefix": "rm(",
     "library": "var_list.r",
     "varRefreshCmd": "cat(var_dic_list()) "
    }
   },
   "types_to_exclude": [
    "module",
    "function",
    "builtin_function_or_method",
    "instance",
    "_Feature"
   ],
   "window_display": false
  }
 },
 "nbformat": 4,
 "nbformat_minor": 5
}
