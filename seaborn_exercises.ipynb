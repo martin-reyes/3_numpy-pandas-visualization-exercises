{
 "cells": [
  {
   "cell_type": "markdown",
   "id": "03a40a97",
   "metadata": {},
   "source": [
    "Use seaborn's `load_dataset` function to load the `iris` database to answer the following questions:\n",
    "\n",
    "1. What does the distribution of petal lengths look like?\n",
    "2. Is there a relationship between petal length and petal width?\n",
    "3. Would it be reasonable to predict species based on sepal width and sepal length? For this, you'll visualize two numeric columns through the lense of a categorical column.\n",
    "4. Which features would be best used to predict species?"
   ]
  },
  {
   "cell_type": "code",
   "execution_count": null,
   "id": "6e231123",
   "metadata": {},
   "outputs": [],
   "source": []
  },
  {
   "cell_type": "markdown",
   "id": "8c875202",
   "metadata": {},
   "source": [
    "1. Load the `anscombe` dataset from seaborn. Use pandas to group the data by the `dataset` column, and calculate summary statistics for each dataset. What do you notice?\n",
    "\n",
    "    - Plot the x and y values from the `anscombe` data. Each dataset should be in a separate column.\n",
    "\n",
    "2. Load the `InsectSprays` dataset from pydataset and read it's documentation. Create a boxplot that shows the effectiveness of the different insect sprays.\n",
    "\n",
    "3. Load the `swiss` dataset from pydataset and read it's documentation. Create visualizations to answer the following questions:\n",
    "\n",
    "4. Create an attribute named `is_catholic` that holds a boolean value of whether or not the province is Catholic. (Choose a cutoff point for what constitutes catholic)\n",
    "    - Does whether or not a province is Catholic influence fertility?\n",
    "    - What measure correlates most strongly with fertility?\n",
    "    - Load the chipotle dataset from SQL, create a bar chart that shows the 4 most popular items and the revenue produced by each.\n",
    "\n",
    "5. Load the `sleepstudy` dataset from pydataset and read it's documentation. Use seaborn to create a line chart of all the individual subject's reaction times and a more prominant line showing the average change in reaction time."
   ]
  },
  {
   "cell_type": "code",
   "execution_count": null,
   "id": "9b82bb98",
   "metadata": {},
   "outputs": [],
   "source": []
  }
 ],
 "metadata": {
  "kernelspec": {
   "display_name": "Python 3 (ipykernel)",
   "language": "python",
   "name": "python3"
  },
  "language_info": {
   "codemirror_mode": {
    "name": "ipython",
    "version": 3
   },
   "file_extension": ".py",
   "mimetype": "text/x-python",
   "name": "python",
   "nbconvert_exporter": "python",
   "pygments_lexer": "ipython3",
   "version": "3.10.9"
  },
  "varInspector": {
   "cols": {
    "lenName": 16,
    "lenType": 16,
    "lenVar": 40
   },
   "kernels_config": {
    "python": {
     "delete_cmd_postfix": "",
     "delete_cmd_prefix": "del ",
     "library": "var_list.py",
     "varRefreshCmd": "print(var_dic_list())"
    },
    "r": {
     "delete_cmd_postfix": ") ",
     "delete_cmd_prefix": "rm(",
     "library": "var_list.r",
     "varRefreshCmd": "cat(var_dic_list()) "
    }
   },
   "types_to_exclude": [
    "module",
    "function",
    "builtin_function_or_method",
    "instance",
    "_Feature"
   ],
   "window_display": false
  }
 },
 "nbformat": 4,
 "nbformat_minor": 5
}
